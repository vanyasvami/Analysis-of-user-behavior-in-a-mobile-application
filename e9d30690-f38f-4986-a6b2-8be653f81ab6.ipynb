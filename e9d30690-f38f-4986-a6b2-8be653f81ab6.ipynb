{
 "cells": [
  {
   "cell_type": "markdown",
   "metadata": {},
   "source": [
    "## Обзор данных"
   ]
  },
  {
   "cell_type": "code",
   "execution_count": 50,
   "metadata": {},
   "outputs": [],
   "source": [
    "import pandas as pd\n",
    "import datetime as dt\n",
    "import numpy as np\n",
    "import matplotlib.pyplot as plt\n",
    "from pandas.plotting import register_matplotlib_converters\n",
    "import warnings\n",
    "import seaborn as sns\n",
    "import scipy.stats as stats\n",
    "import math as mth"
   ]
  },
  {
   "cell_type": "code",
   "execution_count": 51,
   "metadata": {},
   "outputs": [],
   "source": [
    "data = pd.read_csv('/datasets/logs_exp.csv', delimiter='\\t')"
   ]
  },
  {
   "cell_type": "code",
   "execution_count": 53,
   "metadata": {},
   "outputs": [
    {
     "name": "stdout",
     "output_type": "stream",
     "text": [
      "<class 'pandas.core.frame.DataFrame'>\n",
      "RangeIndex: 244126 entries, 0 to 244125\n",
      "Data columns (total 4 columns):\n",
      " #   Column          Non-Null Count   Dtype \n",
      "---  ------          --------------   ----- \n",
      " 0   EventName       244126 non-null  object\n",
      " 1   DeviceIDHash    244126 non-null  int64 \n",
      " 2   EventTimestamp  244126 non-null  int64 \n",
      " 3   ExpId           244126 non-null  int64 \n",
      "dtypes: int64(3), object(1)\n",
      "memory usage: 7.5+ MB\n"
     ]
    }
   ],
   "source": [
    "data.info()"
   ]
  },
  {
   "cell_type": "markdown",
   "metadata": {},
   "source": [
    "**Вывод:**\n",
    "Все названия столбцов необходимо привести к нижнему регистру. Также потребуется измение типов данных в некоторых столбцах."
   ]
  },
  {
   "cell_type": "markdown",
   "metadata": {},
   "source": [
    "## Предобработка данных"
   ]
  },
  {
   "cell_type": "code",
   "execution_count": 54,
   "metadata": {},
   "outputs": [],
   "source": [
    "column_mapping = {\n",
    "    'EventName': 'event_name',\n",
    "    'DeviceIDHash': 'device_id_hash',\n",
    "    'EventTimestamp': 'event_timestamp',\n",
    "    'ExpId': 'exp_id'\n",
    "}\n",
    "data.rename(columns=column_mapping, inplace=True)"
   ]
  },
  {
   "cell_type": "code",
   "execution_count": 56,
   "metadata": {},
   "outputs": [
    {
     "name": "stdout",
     "output_type": "stream",
     "text": [
      "<class 'pandas.core.frame.DataFrame'>\n",
      "RangeIndex: 244126 entries, 0 to 244125\n",
      "Data columns (total 4 columns):\n",
      " #   Column           Non-Null Count   Dtype \n",
      "---  ------           --------------   ----- \n",
      " 0   event_name       244126 non-null  object\n",
      " 1   device_id_hash   244126 non-null  int64 \n",
      " 2   event_timestamp  244126 non-null  int64 \n",
      " 3   exp_id           244126 non-null  int64 \n",
      "dtypes: int64(3), object(1)\n",
      "memory usage: 7.5+ MB\n"
     ]
    }
   ],
   "source": [
    "data.info()"
   ]
  },
  {
   "cell_type": "code",
   "execution_count": 57,
   "metadata": {},
   "outputs": [
    {
     "data": {
      "text/plain": [
       "413"
      ]
     },
     "execution_count": 57,
     "metadata": {},
     "output_type": "execute_result"
    }
   ],
   "source": [
    "data.duplicated().sum() #проверяем на количество явных дубликатов"
   ]
  },
  {
   "cell_type": "code",
   "execution_count": 58,
   "metadata": {},
   "outputs": [],
   "source": [
    "data.drop_duplicates(inplace=True)"
   ]
  },
  {
   "cell_type": "code",
   "execution_count": 59,
   "metadata": {},
   "outputs": [
    {
     "data": {
      "text/plain": [
       "event_name         0\n",
       "device_id_hash     0\n",
       "event_timestamp    0\n",
       "exp_id             0\n",
       "dtype: int64"
      ]
     },
     "execution_count": 59,
     "metadata": {},
     "output_type": "execute_result"
    }
   ],
   "source": [
    "data.isna().sum()"
   ]
  },
  {
   "cell_type": "code",
   "execution_count": 60,
   "metadata": {},
   "outputs": [],
   "source": [
    "data['event_timestamp'] = pd.to_datetime(data['event_timestamp'], unit='s') \n",
    "                                    \n",
    "                                    #Этот код преобразует \n",
    "                                    #столбец event_timestamp из формата timestamp Unix в формат данных datetime. \n",
    "                                    #Параметр unit='s' указывает, что значения \n",
    "                                    #в столбце интерпретируются как секунды с начала эпохи Unix. "
   ]
  },
  {
   "cell_type": "code",
   "execution_count": 62,
   "metadata": {},
   "outputs": [],
   "source": [
    "data['event_date'] = data['event_timestamp'].dt.date\n",
    "data['event_date'] = pd.to_datetime(data['event_date'])\n",
    "data['exp_id'] = data['exp_id'].astype(str)"
   ]
  },
  {
   "cell_type": "code",
   "execution_count": 64,
   "metadata": {},
   "outputs": [
    {
     "name": "stdout",
     "output_type": "stream",
     "text": [
      "<class 'pandas.core.frame.DataFrame'>\n",
      "Int64Index: 243713 entries, 0 to 244125\n",
      "Data columns (total 5 columns):\n",
      " #   Column           Non-Null Count   Dtype         \n",
      "---  ------           --------------   -----         \n",
      " 0   event_name       243713 non-null  object        \n",
      " 1   device_id_hash   243713 non-null  int64         \n",
      " 2   event_timestamp  243713 non-null  datetime64[ns]\n",
      " 3   exp_id           243713 non-null  object        \n",
      " 4   event_date       243713 non-null  datetime64[ns]\n",
      "dtypes: datetime64[ns](2), int64(1), object(2)\n",
      "memory usage: 11.2+ MB\n"
     ]
    }
   ],
   "source": [
    "data.info()"
   ]
  },
  {
   "cell_type": "markdown",
   "metadata": {},
   "source": [
    "**Вывод:**\n",
    "- были удалены дубликаты;\n",
    "- изменины типы данных;\n",
    "- добавлен столбец с датой;\n",
    "- пропуски в таблице отсутствуют;\n",
    "- названия столбцов приведены к нижнему регистру;"
   ]
  },
  {
   "cell_type": "markdown",
   "metadata": {},
   "source": [
    "## Изучение и проверка данных"
   ]
  },
  {
   "cell_type": "code",
   "execution_count": 65,
   "metadata": {},
   "outputs": [
    {
     "name": "stdout",
     "output_type": "stream",
     "text": [
      "Всего событий в логе: 243713\n"
     ]
    }
   ],
   "source": [
    "total_events = data['event_name'].count()\n",
    "print(\"Всего событий в логе:\", total_events)"
   ]
  },
  {
   "cell_type": "code",
   "execution_count": 66,
   "metadata": {},
   "outputs": [
    {
     "name": "stdout",
     "output_type": "stream",
     "text": [
      "Всего пользователей в логе: 7551\n"
     ]
    }
   ],
   "source": [
    "total_users = data['device_id_hash'].nunique()\n",
    "print(\"Всего пользователей в логе:\", total_users)"
   ]
  },
  {
   "cell_type": "code",
   "execution_count": 67,
   "metadata": {},
   "outputs": [
    {
     "name": "stdout",
     "output_type": "stream",
     "text": [
      "В среднем событий на пользователя: 32.27559263673685\n",
      "В среднем событий на пользователя (округлено): 32.28\n"
     ]
    }
   ],
   "source": [
    "events_per_user = total_events / total_users\n",
    "print(\"В среднем событий на пользователя:\", events_per_user)\n",
    "events_per_user_rounded = round(events_per_user, 2)\n",
    "print(\"В среднем событий на пользователя (округлено):\", events_per_user_rounded)"
   ]
  },
  {
   "cell_type": "code",
   "execution_count": 68,
   "metadata": {},
   "outputs": [
    {
     "name": "stdout",
     "output_type": "stream",
     "text": [
      "Максимальная дата: 2019-08-07 21:15:17\n",
      "Минимальная дата: 2019-07-25 04:43:36\n"
     ]
    }
   ],
   "source": [
    "max_date = data['event_timestamp'].max()\n",
    "min_date = data['event_timestamp'].min()\n",
    "\n",
    "print(\"Максимальная дата:\", max_date)\n",
    "print(\"Минимальная дата:\", min_date)"
   ]
  },
  {
   "cell_type": "code",
   "execution_count": 69,
   "metadata": {},
   "outputs": [
    {
     "data": {
      "image/png": "[encoded data removed]",
      "text/plain": [
       "<Figure size 864x432 with 1 Axes>"
      ]
     },
     "metadata": {
      "needs_background": "light"
     },
     "output_type": "display_data"
    }
   ],
   "source": [
    "data.groupby(['exp_id', data['event_date'].dt.date])['event_name'].count().unstack().plot(kind='bar', stacked=True, figsize=(12, 6))\n",
    "\n",
    "plt.xlabel('Группа')\n",
    "plt.ylabel('Количество событий')\n",
    "plt.title('Количество событий в зависимости от времени по группам')\n",
    "plt.show()"
   ]
  },
  {
   "cell_type": "markdown",
   "metadata": {},
   "source": [
    "Как мы видим по графику выше у группы 248 показатель общего кол-ва событий наиболее высокий за рассматриваемый период. Кол-во тех или иных событий по разным группам в зависимости от периода имеет относительно схожий удельный вес."
   ]
  },
  {
   "cell_type": "code",
   "execution_count": 70,
   "metadata": {},
   "outputs": [
    {
     "data": {
      "image/png": "[encoded data removed]",
      "text/plain": [
       "<Figure size 720x432 with 1 Axes>"
      ]
     },
     "metadata": {
      "needs_background": "light"
     },
     "output_type": "display_data"
    }
   ],
   "source": [
    "plt.figure(figsize=(10, 6))\n",
    "data['event_date'].hist(bins=20)\n",
    "plt.xlabel('Дата')\n",
    "plt.ylabel('Количество событий')\n",
    "plt.title('Количество событий в зависимости от даты')\n",
    "plt.xticks(rotation=45)\n",
    "plt.show()"
   ]
  },
  {
   "cell_type": "markdown",
   "metadata": {},
   "source": [
    "До 01.08.2019 видим незначительное количество событий. Отбросим все события до 01.08.2019"
   ]
  },
  {
   "cell_type": "code",
   "execution_count": 71,
   "metadata": {},
   "outputs": [
    {
     "data": {
      "image/png": "[encoded data removed]",
      "text/plain": [
       "<Figure size 720x432 with 1 Axes>"
      ]
     },
     "metadata": {
      "needs_background": "light"
     },
     "output_type": "display_data"
    }
   ],
   "source": [
    "data_new = data.query('event_date>\"2019-07-31\"')\n",
    "plt.figure(figsize=(10, 6))\n",
    "data_new['event_date'].hist(bins=20)\n",
    "plt.xlabel('Дата')\n",
    "plt.ylabel('Количество событий')\n",
    "plt.title('Количество событий в зависимости от даты после 07-31')\n",
    "plt.xticks(rotation=45)\n",
    "plt.show()"
   ]
  },
  {
   "cell_type": "markdown",
   "metadata": {},
   "source": [
    "Динамика на графике теперь выглядит более адекватно. Как мы видим наименьшее кол-во событий наблюдается в 2019-08-04, наибольшее 2019-08-05 "
   ]
  },
  {
   "cell_type": "code",
   "execution_count": 72,
   "metadata": {},
   "outputs": [
    {
     "name": "stdout",
     "output_type": "stream",
     "text": [
      "Было потеряно 2826 событий\n"
     ]
    }
   ],
   "source": [
    "data_old = data.query('event_date <= \"2019-07-31\"')\n",
    "print(\"Было потеряно\", data_old['event_name'].count(),\"событий\")"
   ]
  },
  {
   "cell_type": "code",
   "execution_count": 73,
   "metadata": {},
   "outputs": [],
   "source": [
    "# Уникальные пользователи до фильтрации\n",
    "unique_users_original = data['device_id_hash'].nunique()\n",
    "\n",
    "# Уникальные пользователи после фильтрации\n",
    "unique_users_after_filter = data[data['event_date'] > '2019-07-31']['device_id_hash'].nunique()\n",
    "\n",
    "unique_events_original = data['event_name'].count()\n",
    "\n",
    "# Уникальные события после фильтрации\n",
    "unique_events_after_filter = data[data['event_date'] > '2019-07-31']['event_name'].count()"
   ]
  },
  {
   "cell_type": "code",
   "execution_count": 74,
   "metadata": {},
   "outputs": [
    {
     "name": "stdout",
     "output_type": "stream",
     "text": [
      "Доля потерь пользователей: 0.23 %\n",
      "Доля потерь событий: 1.16 %\n"
     ]
    }
   ],
   "source": [
    "# Доля потерь пользователей\n",
    "user_loss_percentage = ((unique_users_original - unique_users_after_filter) / unique_users_original) * 100\n",
    "\n",
    "# Доля потерь событий\n",
    "event_loss_percentage = ((unique_events_original - unique_events_after_filter) / unique_events_original) * 100\n",
    "\n",
    "print(\"Доля потерь пользователей:\", round(user_loss_percentage, 2), \"%\")\n",
    "print(\"Доля потерь событий:\", round(event_loss_percentage,2), \"%\")\n"
   ]
  },
  {
   "cell_type": "code",
   "execution_count": 75,
   "metadata": {},
   "outputs": [
    {
     "data": {
      "text/plain": [
       "248    84563\n",
       "246    79302\n",
       "247    77022\n",
       "Name: exp_id, dtype: int64"
      ]
     },
     "execution_count": 75,
     "metadata": {},
     "output_type": "execute_result"
    }
   ],
   "source": [
    "data_new['exp_id'].value_counts()"
   ]
  },
  {
   "cell_type": "markdown",
   "metadata": {},
   "source": [
    "Видно, что от 7-8к событий приходится на каждую группу."
   ]
  },
  {
   "cell_type": "markdown",
   "metadata": {},
   "source": [
    "**Вывод:**\n",
    "- Всего событий в логе: 243713;\n",
    "- Всего пользователей в логе: 7551;\n",
    "- В среднем событий на пользователя (округлено): 32.28;\n",
    "- Максимальная дата: 2019-08-07 21:15:17;\n",
    "- Минимальная дата: 2019-07-25 04:43:36;\n",
    "- У группы 248 показатель общего кол-ва событий наиболее высокий за рассматриваемый период. Кол-во тех или иных событий по разным группам в зависимости от периода имеет относительно схожий удельный вес.\n",
    "- До 01.08.2019 видим незначительное количество событий. Отбросим все события до 01.08.2019;\n",
    "- Наименьшее кол-во событий наблюдается в 2019-08-04, наибольшее 2019-08-05;\n",
    "- После фильтрации было потеряно 2826 событий;\n",
    "- Доля потерь пользователей: 0.23 %\n",
    "- Доля потерь событий: 1.16 %\n",
    "- Видно, что от 7-8к событий приходится на каждую группу.\n"
   ]
  },
  {
   "cell_type": "markdown",
   "metadata": {},
   "source": [
    "## Изучение воронки событий"
   ]
  },
  {
   "cell_type": "code",
   "execution_count": 76,
   "metadata": {},
   "outputs": [],
   "source": [
    "events_counts = data['event_name'].value_counts()"
   ]
  },
  {
   "cell_type": "code",
   "execution_count": 77,
   "metadata": {},
   "outputs": [
    {
     "data": {
      "image/png": "[encoded data removed]",
      "text/plain": [
       "<Figure size 720x432 with 1 Axes>"
      ]
     },
     "metadata": {
      "needs_background": "light"
     },
     "output_type": "display_data"
    }
   ],
   "source": [
    "plt.figure(figsize=(10, 6))\n",
    "events_counts.plot(kind='bar')\n",
    "plt.title('Количество событий по типам')\n",
    "plt.xlabel('Тип события')\n",
    "plt.ylabel('Количество событий')\n",
    "plt.xticks(rotation=45)  # Поворачиваем метки по оси X для лучшей читаемости\n",
    "\n",
    "plt.tight_layout()\n",
    "plt.show()"
   ]
  },
  {
   "cell_type": "markdown",
   "metadata": {},
   "source": [
    "На графике 5 событий, по убыванию их популярности: показ пользователю главного экрана, показ экрана с предложением, показ экрана корзины, показ экрана с подтверждением оплаты, показ обучения"
   ]
  },
  {
   "cell_type": "code",
   "execution_count": 78,
   "metadata": {},
   "outputs": [
    {
     "data": {
      "text/html": [
       "<div>\n",
       "<style scoped>\n",
       "    .dataframe tbody tr th:only-of-type {\n",
       "        vertical-align: middle;\n",
       "    }\n",
       "\n",
       "    .dataframe tbody tr th {\n",
       "        vertical-align: top;\n",
       "    }\n",
       "\n",
       "    .dataframe thead th {\n",
       "        text-align: right;\n",
       "    }\n",
       "</style>\n",
       "<table border=\"1\" class=\"dataframe\">\n",
       "  <thead>\n",
       "    <tr style=\"text-align: right;\">\n",
       "      <th></th>\n",
       "      <th>event_name</th>\n",
       "      <th>user_count</th>\n",
       "      <th>user_percentage</th>\n",
       "    </tr>\n",
       "  </thead>\n",
       "  <tbody>\n",
       "    <tr>\n",
       "      <th>1</th>\n",
       "      <td>MainScreenAppear</td>\n",
       "      <td>7439</td>\n",
       "      <td>98.516753</td>\n",
       "    </tr>\n",
       "    <tr>\n",
       "      <th>2</th>\n",
       "      <td>OffersScreenAppear</td>\n",
       "      <td>4613</td>\n",
       "      <td>61.091246</td>\n",
       "    </tr>\n",
       "    <tr>\n",
       "      <th>0</th>\n",
       "      <td>CartScreenAppear</td>\n",
       "      <td>3749</td>\n",
       "      <td>49.649053</td>\n",
       "    </tr>\n",
       "    <tr>\n",
       "      <th>3</th>\n",
       "      <td>PaymentScreenSuccessful</td>\n",
       "      <td>3547</td>\n",
       "      <td>46.973911</td>\n",
       "    </tr>\n",
       "    <tr>\n",
       "      <th>4</th>\n",
       "      <td>Tutorial</td>\n",
       "      <td>847</td>\n",
       "      <td>11.217057</td>\n",
       "    </tr>\n",
       "  </tbody>\n",
       "</table>\n",
       "</div>"
      ],
      "text/plain": [
       "                event_name  user_count  user_percentage\n",
       "1         MainScreenAppear        7439        98.516753\n",
       "2       OffersScreenAppear        4613        61.091246\n",
       "0         CartScreenAppear        3749        49.649053\n",
       "3  PaymentScreenSuccessful        3547        46.973911\n",
       "4                 Tutorial         847        11.217057"
      ]
     },
     "execution_count": 78,
     "metadata": {},
     "output_type": "execute_result"
    }
   ],
   "source": [
    "event_users_count = data.groupby('event_name')['device_id_hash'].nunique().reset_index()\n",
    "event_users_count.columns = ['event_name', 'user_count']\n",
    "\n",
    "event_users_count = event_users_count.sort_values(by='user_count', ascending=False)\n",
    "total_unique_users = data['device_id_hash'].nunique()\n",
    "\n",
    "\n",
    "event_users_count['user_percentage'] = event_users_count['user_count'] / total_unique_users * 100\n",
    "\n",
    "event_users_count\n"
   ]
  },
  {
   "cell_type": "markdown",
   "metadata": {},
   "source": [
    "Рассматриваемые события складываются в воронку продаж. Самое популярное событие - показ главного экрана, а самое непопулярное, которое входит в воронку продаж, - показ экрана оплаты"
   ]
  },
  {
   "cell_type": "markdown",
   "metadata": {},
   "source": [
    "Порядок, в котором происходят события, может зависеть от специфики приложения и целей анализа. Однако, обычно события в анализе данных о пользовательском взаимодействии с приложением выстраиваются в логическую последовательную цепочку, которая отражает типичный путь пользователя.  \n",
    "\n",
    "Например, типичная последовательность событий в электронной коммерции может выглядеть так:  \n",
    "\n",
    "1. MainScreenAppear (Главный экран появляется) - Это событие, возможно, означает, что пользователь открыл приложение.\n",
    "\n",
    "2. OffersScreenAppear (Появление страницы предложений) - После открытия главного экрана, пользователь переходит на страницу с предложениями.\n",
    "\n",
    "3. CartScreenAppear (Появление страницы корзины) - Пользователь добавляет товары в корзину.\n",
    "\n",
    "4. PaymentScreenSuccessful (Успешное совершение оплаты) - Пользователь завершает покупку и совершает успешную оплату.\n",
    "\n",
    "5. Tutorial (Обучение) - Это может быть опциональным событием, где новые пользователи проходят обучение перед основным взаимодействием с приложением.  \n",
    "\n",
    "Однако не все события обязательно входят в воронку. Например, событие \"Tutorial\" может быть информационным и не влиять на воронку конверсии."
   ]
  },
  {
   "cell_type": "code",
   "execution_count": 79,
   "metadata": {},
   "outputs": [
    {
     "data": {
      "text/html": [
       "<div>\n",
       "<style scoped>\n",
       "    .dataframe tbody tr th:only-of-type {\n",
       "        vertical-align: middle;\n",
       "    }\n",
       "\n",
       "    .dataframe tbody tr th {\n",
       "        vertical-align: top;\n",
       "    }\n",
       "\n",
       "    .dataframe thead th {\n",
       "        text-align: right;\n",
       "    }\n",
       "</style>\n",
       "<table border=\"1\" class=\"dataframe\">\n",
       "  <thead>\n",
       "    <tr style=\"text-align: right;\">\n",
       "      <th></th>\n",
       "      <th>Event</th>\n",
       "      <th>Users</th>\n",
       "      <th>Conversion</th>\n",
       "    </tr>\n",
       "  </thead>\n",
       "  <tbody>\n",
       "    <tr>\n",
       "      <th>0</th>\n",
       "      <td>OffersScreenAppear</td>\n",
       "      <td>4613</td>\n",
       "      <td>62.011023</td>\n",
       "    </tr>\n",
       "    <tr>\n",
       "      <th>1</th>\n",
       "      <td>CartScreenAppear</td>\n",
       "      <td>3749</td>\n",
       "      <td>81.270323</td>\n",
       "    </tr>\n",
       "    <tr>\n",
       "      <th>2</th>\n",
       "      <td>PaymentScreenSuccessful</td>\n",
       "      <td>3547</td>\n",
       "      <td>94.611897</td>\n",
       "    </tr>\n",
       "  </tbody>\n",
       "</table>\n",
       "</div>"
      ],
      "text/plain": [
       "                     Event Users  Conversion\n",
       "0       OffersScreenAppear  4613   62.011023\n",
       "1         CartScreenAppear  3749   81.270323\n",
       "2  PaymentScreenSuccessful  3547   94.611897"
      ]
     },
     "execution_count": 79,
     "metadata": {},
     "output_type": "execute_result"
    }
   ],
   "source": [
    "# Создаем список событий в порядке воронки\n",
    "events_in_funnel = ['MainScreenAppear', 'OffersScreenAppear', 'CartScreenAppear', 'PaymentScreenSuccessful']\n",
    "\n",
    "# Создаем DataFrame для хранения результатов\n",
    "funnel_conversion = pd.DataFrame(columns=['Event', 'Users', 'Conversion'])\n",
    "\n",
    "# Пройдем по событиям в порядке воронки и рассчитаем долю пользователей\n",
    "for i in range(1, len(events_in_funnel)):\n",
    "    event_A = events_in_funnel[i - 1]\n",
    "    event_B = events_in_funnel[i]\n",
    "    \n",
    "    users_A = event_users_count[event_users_count['event_name'] == event_A]['user_count'].values[0]\n",
    "    users_B = event_users_count[event_users_count['event_name'] == event_B]['user_count'].values[0]\n",
    "    \n",
    "    conversion = (users_B / users_A) * 100 if users_A > 0 else 0\n",
    "    \n",
    "    funnel_conversion = funnel_conversion.append({'Event': event_B, 'Users': users_B, 'Conversion': conversion}, ignore_index=True)\n",
    "\n",
    "funnel_conversion\n"
   ]
  },
  {
   "cell_type": "markdown",
   "metadata": {},
   "source": [
    "- На экран с предложением проходит 62% пользователей, посмотревших главный экран.\n",
    "- На экран с корзиной переходит 81% пользователей.\n",
    "- На экран с успешной оплатой переходит 95% пользователей."
   ]
  },
  {
   "cell_type": "markdown",
   "metadata": {},
   "source": [
    "Важно понять на каком шаге мы теряем больше всего пользователей.\n",
    "- К экрану с предложением проходит только 62% пользователей.\n",
    "Наименее популярным событием в воронке продаж,как и следовало ожидать,является событие перехода к оплате. Но если смотреть на конверсию, то большой процент пользователей теряется при переходе от главного экрана к самому экрану с предложением."
   ]
  },
  {
   "cell_type": "code",
   "execution_count": 80,
   "metadata": {},
   "outputs": [
    {
     "name": "stdout",
     "output_type": "stream",
     "text": [
      "Доля пользователей, дошедших от первого события до оплаты: 47.68%\n"
     ]
    }
   ],
   "source": [
    "# Количество уникальных пользователей, совершивших первое событие (MainScreenAppear)\n",
    "users_main_screen = event_users_count[event_users_count['event_name'] == 'MainScreenAppear']['user_count'].values[0]\n",
    "\n",
    "# количество уникальных пользователей, совершивших оплату (PaymentScreenSuccessful)\n",
    "users_payment_successful = event_users_count[event_users_count['event_name'] == 'PaymentScreenSuccessful']['user_count'].values[0]\n",
    "\n",
    "# Доля пользователей, совершивших оплату относительно тех, кто начал с первого события\n",
    "conversion_to_payment = (users_payment_successful / users_main_screen) * 100 if users_main_screen > 0 else 0\n",
    "print(f\"Доля пользователей, дошедших от первого события до оплаты: {conversion_to_payment:.2f}%\")\n"
   ]
  },
  {
   "cell_type": "markdown",
   "metadata": {},
   "source": [
    "**Вывод:**\n",
    "- На графике 5 событий, по убыванию их популярности: показ пользователю главного экрана, показ экрана с предложением, показ экрана корзины, показ экрана с подтверждением оплаты, показ обучения;\n",
    "- Рассматриваемые события складываются в воронку продаж. Самое популярное событие - показ главного экрана, а самое непопулярное, которое входит в воронку продаж, - показ экрана оплаты;\n",
    "- На экран с предложением проходит 62% пользователей, посмотревших главный экран.\n",
    "- На экран с корзиной переходит 81% пользователей.\n",
    "- На экран с успешной оплатой переходит 95% пользователей.\n",
    "- К экрану с предложением проходит только 62% пользователей.\n",
    "Наименее популярным событием в воронке продаж,как и следовало ожидать,является событие перехода к оплате. Но если смотреть на конверсию, то большой процент пользователей теряется при переходе от главного экрана к самому экрану с предложением.\n",
    "- Доля пользователей, дошедших от первого события до оплаты: 47.68%"
   ]
  },
  {
   "cell_type": "markdown",
   "metadata": {},
   "source": [
    "## Изучение результатов эксперимента"
   ]
  },
  {
   "cell_type": "code",
   "execution_count": 81,
   "metadata": {},
   "outputs": [
    {
     "data": {
      "text/plain": [
       "exp_id\n",
       "246    2489\n",
       "247    2520\n",
       "248    2542\n",
       "Name: device_id_hash, dtype: int64"
      ]
     },
     "execution_count": 81,
     "metadata": {},
     "output_type": "execute_result"
    }
   ],
   "source": [
    "users_per_group = data.groupby('exp_id')['device_id_hash'].nunique()\n",
    "\n",
    "users_per_group"
   ]
  },
  {
   "cell_type": "markdown",
   "metadata": {},
   "source": [
    "В 246 группе 2484 пользователя, в 247 группе 2513 пользователей, в группе 248, с увеличенными шрифтами, 2537 пользователей."
   ]
  },
  {
   "cell_type": "code",
   "execution_count": 82,
   "metadata": {},
   "outputs": [
    {
     "name": "stdout",
     "output_type": "stream",
     "text": [
      "Количество уникальных пользователей в каждой группе:\n",
      "exp_id\n",
      "246    2489\n",
      "247    2520\n",
      "248    2542\n",
      "Name: device_id_hash, dtype: int64\n"
     ]
    }
   ],
   "source": [
    "users_per_group = data.groupby('exp_id')['device_id_hash'].nunique()\n",
    "users_in_multiple_groups = data.groupby('device_id_hash')['exp_id'].nunique() > 1\n",
    "\n",
    "if users_in_multiple_groups.any():\n",
    "    print(\"Внимание! Некоторые пользователи принадлежат более чем одной группе:\")\n",
    "    print(data[data['device_id_hash'].isin(users_in_multiple_groups.index)][['device_id_hash', 'exp_id']])\n",
    "\n",
    "print(\"Количество уникальных пользователей в каждой группе:\")\n",
    "print(users_per_group)\n"
   ]
  },
  {
   "cell_type": "code",
   "execution_count": 83,
   "metadata": {},
   "outputs": [
    {
     "data": {
      "image/png": "[encoded data removed]",
      "text/plain": [
       "<Figure size 720x432 with 1 Axes>"
      ]
     },
     "metadata": {
      "needs_background": "light"
     },
     "output_type": "display_data"
    }
   ],
   "source": [
    "plt.figure(figsize=(10, 6))\n",
    "users_per_group.plot(kind='bar')\n",
    "plt.title('Количество пользователей по грyппам')\n",
    "plt.xlabel('Группа')\n",
    "plt.ylabel('Количество пользователей')\n",
    "plt.xticks(rotation=45)  # Поворачиваем метки по оси X для лучшей читаемости\n",
    "\n",
    "plt.tight_layout()\n",
    "plt.grid(True, axis='y') \n",
    "plt.show()"
   ]
  },
  {
   "cell_type": "markdown",
   "metadata": {},
   "source": [
    "График показывает, что кол-во пользователей по группам плюс минус одинаковое."
   ]
  },
  {
   "cell_type": "code",
   "execution_count": 84,
   "metadata": {},
   "outputs": [
    {
     "data": {
      "text/html": [
       "<div>\n",
       "<style scoped>\n",
       "    .dataframe tbody tr th:only-of-type {\n",
       "        vertical-align: middle;\n",
       "    }\n",
       "\n",
       "    .dataframe tbody tr th {\n",
       "        vertical-align: top;\n",
       "    }\n",
       "\n",
       "    .dataframe thead th {\n",
       "        text-align: right;\n",
       "    }\n",
       "</style>\n",
       "<table border=\"1\" class=\"dataframe\">\n",
       "  <thead>\n",
       "    <tr style=\"text-align: right;\">\n",
       "      <th>event_name</th>\n",
       "      <th>CartScreenAppear</th>\n",
       "      <th>MainScreenAppear</th>\n",
       "      <th>OffersScreenAppear</th>\n",
       "      <th>PaymentScreenSuccessful</th>\n",
       "      <th>Total</th>\n",
       "    </tr>\n",
       "    <tr>\n",
       "      <th>exp_id</th>\n",
       "      <th></th>\n",
       "      <th></th>\n",
       "      <th></th>\n",
       "      <th></th>\n",
       "      <th></th>\n",
       "    </tr>\n",
       "  </thead>\n",
       "  <tbody>\n",
       "    <tr>\n",
       "      <th>246</th>\n",
       "      <td>1266</td>\n",
       "      <td>2450</td>\n",
       "      <td>1542</td>\n",
       "      <td>1200</td>\n",
       "      <td>2484</td>\n",
       "    </tr>\n",
       "    <tr>\n",
       "      <th>247</th>\n",
       "      <td>1238</td>\n",
       "      <td>2476</td>\n",
       "      <td>1520</td>\n",
       "      <td>1158</td>\n",
       "      <td>2513</td>\n",
       "    </tr>\n",
       "    <tr>\n",
       "      <th>248</th>\n",
       "      <td>1230</td>\n",
       "      <td>2493</td>\n",
       "      <td>1531</td>\n",
       "      <td>1181</td>\n",
       "      <td>2537</td>\n",
       "    </tr>\n",
       "  </tbody>\n",
       "</table>\n",
       "</div>"
      ],
      "text/plain": [
       "event_name  CartScreenAppear  MainScreenAppear  OffersScreenAppear  \\\n",
       "exp_id                                                               \n",
       "246                     1266              2450                1542   \n",
       "247                     1238              2476                1520   \n",
       "248                     1230              2493                1531   \n",
       "\n",
       "event_name  PaymentScreenSuccessful  Total  \n",
       "exp_id                                      \n",
       "246                            1200   2484  \n",
       "247                            1158   2513  \n",
       "248                            1181   2537  "
      ]
     },
     "execution_count": 84,
     "metadata": {},
     "output_type": "execute_result"
    }
   ],
   "source": [
    "# Создаем сводную таблицу с числом уникальных пользователей по событиям и группам\n",
    "voronka = data_new.pivot_table(\n",
    "    index='event_name',\n",
    "    columns='exp_id',\n",
    "    values='device_id_hash',\n",
    "    aggfunc='nunique'\n",
    ")\n",
    "\n",
    "# Удаляем столбец 'Tutorial', если он присутствует\n",
    "if 'Tutorial' in voronka.index:\n",
    "    voronka = voronka.drop('Tutorial')\n",
    "\n",
    "# Добавляем столбец с общим числом пользователей в каждой группе\n",
    "voronka.loc['Total'] = data_new.groupby('exp_id')['device_id_hash'].nunique()\n",
    "voronka = voronka.T\n",
    "voronka\n"
   ]
  },
  {
   "cell_type": "code",
   "execution_count": 85,
   "metadata": {},
   "outputs": [],
   "source": [
    "# Напишем функцию для проверки гипотез\n",
    "def hypothesis (success, trials, alpha):\n",
    "    p1 = success[0] / trials[0]\n",
    "    p2 = success[1] / trials[1]\n",
    "    p_combined = (success[0] + success[1]) / (trials[0] + trials[1])\n",
    "    difference = p1 - p2\n",
    " \n",
    "    z_value = difference / mth.sqrt(p_combined *(1-p_combined) * (1/trials[0] + 1/trials[1]))\n",
    "    distr = stats.norm(0, 1) \n",
    "    p_value = (1 - distr.cdf(abs(z_value))) * 2\n",
    "    \n",
    "    print('p-значение: ', p_value, end='')\n",
    "    if (p_value < alpha):\n",
    "        print(\" Отвергаем нулевую гипотезу: между долями есть значимая разница\")\n",
    "        print('')\n",
    "    else:\n",
    "        print(\" Не получилось отвергнуть нулевую гипотезу, нет оснований считать доли разными\")\n",
    "        print('')"
   ]
  },
  {
   "cell_type": "code",
   "execution_count": 86,
   "metadata": {},
   "outputs": [],
   "source": [
    "def automation(group1, group2, alpha):\n",
    "    events = ['MainScreenAppear', 'OffersScreenAppear', 'CartScreenAppear', 'PaymentScreenSuccessful']\n",
    "    \n",
    "    for event in events:\n",
    "        success = [voronka[event][group1], voronka[event][group2]]\n",
    "        trials = [voronka['Total'][group1], voronka['Total'][group2]]\n",
    "        \n",
    "        print(f'Результаты теста по долям {event} для групп')\n",
    "        hypothesis(success, trials, alpha)"
   ]
  },
  {
   "cell_type": "markdown",
   "metadata": {},
   "source": [
    "H_0: Доля в выборке А1 = Доля в выборке А2\n",
    "\n",
    "H_1: Доля в выборке А1 != Доля в выборке А2\n",
    "\n",
    "alpha = 0.1"
   ]
  },
  {
   "cell_type": "code",
   "execution_count": 87,
   "metadata": {},
   "outputs": [
    {
     "name": "stdout",
     "output_type": "stream",
     "text": [
      "Результаты теста по долям MainScreenAppear для групп\n",
      "p-значение:  0.7570597232046099 Не получилось отвергнуть нулевую гипотезу, нет оснований считать доли разными\n",
      "\n",
      "Результаты теста по долям OffersScreenAppear для групп\n",
      "p-значение:  0.2480954578522181 Не получилось отвергнуть нулевую гипотезу, нет оснований считать доли разными\n",
      "\n",
      "Результаты теста по долям CartScreenAppear для групп\n",
      "p-значение:  0.22883372237997213 Не получилось отвергнуть нулевую гипотезу, нет оснований считать доли разными\n",
      "\n",
      "Результаты теста по долям PaymentScreenSuccessful для групп\n",
      "p-значение:  0.11456679313141849 Не получилось отвергнуть нулевую гипотезу, нет оснований считать доли разными\n",
      "\n"
     ]
    }
   ],
   "source": [
    "# проверка групп А1/А2\n",
    "automation (0, 1, 0.1)"
   ]
  },
  {
   "cell_type": "markdown",
   "metadata": {},
   "source": [
    "**Вывод:**\n",
    "- Нет оснований считать контрольные выборки групп 246 и 247 разными. Контрольные группы выбраны верны. \n",
    "- Показ главного экрана сайта - самое популярное событие. С этого и начинается воронка продаж."
   ]
  },
  {
   "cell_type": "code",
   "execution_count": 88,
   "metadata": {},
   "outputs": [
    {
     "data": {
      "text/html": [
       "<div>\n",
       "<style scoped>\n",
       "    .dataframe tbody tr th:only-of-type {\n",
       "        vertical-align: middle;\n",
       "    }\n",
       "\n",
       "    .dataframe tbody tr th {\n",
       "        vertical-align: top;\n",
       "    }\n",
       "\n",
       "    .dataframe thead th {\n",
       "        text-align: right;\n",
       "    }\n",
       "</style>\n",
       "<table border=\"1\" class=\"dataframe\">\n",
       "  <thead>\n",
       "    <tr style=\"text-align: right;\">\n",
       "      <th>event_name</th>\n",
       "      <th>CartScreenAppear</th>\n",
       "      <th>MainScreenAppear</th>\n",
       "      <th>OffersScreenAppear</th>\n",
       "      <th>PaymentScreenSuccessful</th>\n",
       "      <th>Total</th>\n",
       "    </tr>\n",
       "    <tr>\n",
       "      <th>exp_id</th>\n",
       "      <th></th>\n",
       "      <th></th>\n",
       "      <th></th>\n",
       "      <th></th>\n",
       "      <th></th>\n",
       "    </tr>\n",
       "  </thead>\n",
       "  <tbody>\n",
       "    <tr>\n",
       "      <th>246</th>\n",
       "      <td>1266</td>\n",
       "      <td>2450</td>\n",
       "      <td>1542</td>\n",
       "      <td>1200</td>\n",
       "      <td>2484</td>\n",
       "    </tr>\n",
       "    <tr>\n",
       "      <th>247</th>\n",
       "      <td>1238</td>\n",
       "      <td>2476</td>\n",
       "      <td>1520</td>\n",
       "      <td>1158</td>\n",
       "      <td>2513</td>\n",
       "    </tr>\n",
       "    <tr>\n",
       "      <th>248</th>\n",
       "      <td>1230</td>\n",
       "      <td>2493</td>\n",
       "      <td>1531</td>\n",
       "      <td>1181</td>\n",
       "      <td>2537</td>\n",
       "    </tr>\n",
       "    <tr>\n",
       "      <th>249</th>\n",
       "      <td>2504</td>\n",
       "      <td>4926</td>\n",
       "      <td>3062</td>\n",
       "      <td>2358</td>\n",
       "      <td>4997</td>\n",
       "    </tr>\n",
       "  </tbody>\n",
       "</table>\n",
       "</div>"
      ],
      "text/plain": [
       "event_name  CartScreenAppear  MainScreenAppear  OffersScreenAppear  \\\n",
       "exp_id                                                               \n",
       "246                     1266              2450                1542   \n",
       "247                     1238              2476                1520   \n",
       "248                     1230              2493                1531   \n",
       "249                     2504              4926                3062   \n",
       "\n",
       "event_name  PaymentScreenSuccessful  Total  \n",
       "exp_id                                      \n",
       "246                            1200   2484  \n",
       "247                            1158   2513  \n",
       "248                            1181   2537  \n",
       "249                            2358   4997  "
      ]
     },
     "execution_count": 88,
     "metadata": {},
     "output_type": "execute_result"
    }
   ],
   "source": [
    "#Соединим две контрольные группы в группу 249\n",
    "voronka.loc['249'] = [voronka['CartScreenAppear'][0]+voronka['CartScreenAppear'][1] , voronka['MainScreenAppear'][0]+voronka['MainScreenAppear'][1], voronka['OffersScreenAppear'][0]+voronka['OffersScreenAppear'][1], voronka['PaymentScreenSuccessful'][0]+voronka['PaymentScreenSuccessful'][1], voronka['Total'][0]+voronka['Total'][1]]\n",
    "voronka"
   ]
  },
  {
   "cell_type": "markdown",
   "metadata": {},
   "source": [
    "H_0: Доля в выборке А1 = Доля в выборке В\n",
    "\n",
    "H_1: Доля в выборке А1 != Доля в выборке В\n",
    "\n",
    "alpha = 0.1"
   ]
  },
  {
   "cell_type": "code",
   "execution_count": 89,
   "metadata": {},
   "outputs": [
    {
     "name": "stdout",
     "output_type": "stream",
     "text": [
      "Результаты теста по долям MainScreenAppear для групп\n",
      "p-значение:  0.2949721933554552 Не получилось отвергнуть нулевую гипотезу, нет оснований считать доли разными\n",
      "\n",
      "Результаты теста по долям OffersScreenAppear для групп\n",
      "p-значение:  0.20836205402738917 Не получилось отвергнуть нулевую гипотезу, нет оснований считать доли разными\n",
      "\n",
      "Результаты теста по долям CartScreenAppear для групп\n",
      "p-значение:  0.07842923237520116 Отвергаем нулевую гипотезу: между долями есть значимая разница\n",
      "\n",
      "Результаты теста по долям PaymentScreenSuccessful для групп\n",
      "p-значение:  0.2122553275697796 Не получилось отвергнуть нулевую гипотезу, нет оснований считать доли разными\n",
      "\n"
     ]
    }
   ],
   "source": [
    "automation (0, 2, 0.1)"
   ]
  },
  {
   "cell_type": "code",
   "execution_count": 90,
   "metadata": {},
   "outputs": [
    {
     "name": "stdout",
     "output_type": "stream",
     "text": [
      "В 246-ой контрольной группе 50.0 % пользователей переходит к оплате\n",
      "В 248-ой группе 48.0 % пользователей переходит к оплате\n"
     ]
    }
   ],
   "source": [
    "print('В 246-ой контрольной группе', round(voronka['CartScreenAppear'].iloc[0]/voronka['Total'].iloc[1], 2)*100, '% пользователей переходит к оплате')\n",
    "print('В 248-ой группе', round(voronka['CartScreenAppear'].iloc[2]/voronka['Total'].iloc[2], 2)*100, '% пользователей переходит к оплате')"
   ]
  },
  {
   "cell_type": "markdown",
   "metadata": {},
   "source": [
    "H_0: Доля в выборке А2 = Доля в выборке В\n",
    "\n",
    "H_1: Доля в выборке А2 != Доля в выборке В\n",
    "\n",
    "alpha = 0.1"
   ]
  },
  {
   "cell_type": "code",
   "execution_count": 91,
   "metadata": {},
   "outputs": [
    {
     "name": "stdout",
     "output_type": "stream",
     "text": [
      "Результаты теста по долям MainScreenAppear для групп\n",
      "p-значение:  0.4587053616621515 Не получилось отвергнуть нулевую гипотезу, нет оснований считать доли разными\n",
      "\n",
      "Результаты теста по долям OffersScreenAppear для групп\n",
      "p-значение:  0.9197817830592261 Не получилось отвергнуть нулевую гипотезу, нет оснований считать доли разными\n",
      "\n",
      "Результаты теста по долям CartScreenAppear для групп\n",
      "p-значение:  0.5786197879539783 Не получилось отвергнуть нулевую гипотезу, нет оснований считать доли разными\n",
      "\n",
      "Результаты теста по долям PaymentScreenSuccessful для групп\n",
      "p-значение:  0.7373415053803964 Не получилось отвергнуть нулевую гипотезу, нет оснований считать доли разными\n",
      "\n"
     ]
    }
   ],
   "source": [
    "automation (1, 2, 0.1)"
   ]
  },
  {
   "cell_type": "markdown",
   "metadata": {},
   "source": [
    "H_0: Доля в выборке А = Доля в выборке В\n",
    "\n",
    "H_1: Доля в выборке А != Доля в выборке В\n",
    "\n",
    "alpha = 0.1"
   ]
  },
  {
   "cell_type": "code",
   "execution_count": 92,
   "metadata": {},
   "outputs": [
    {
     "name": "stdout",
     "output_type": "stream",
     "text": [
      "Результаты теста по долям MainScreenAppear для групп\n",
      "p-значение:  0.29424526837179577 Не получилось отвергнуть нулевую гипотезу, нет оснований считать доли разными\n",
      "\n",
      "Результаты теста по долям OffersScreenAppear для групп\n",
      "p-значение:  0.43425549655188256 Не получилось отвергнуть нулевую гипотезу, нет оснований считать доли разными\n",
      "\n",
      "Результаты теста по долям CartScreenAppear для групп\n",
      "p-значение:  0.18175875284404386 Не получилось отвергнуть нулевую гипотезу, нет оснований считать доли разными\n",
      "\n",
      "Результаты теста по долям PaymentScreenSuccessful для групп\n",
      "p-значение:  0.6004294282308704 Не получилось отвергнуть нулевую гипотезу, нет оснований считать доли разными\n",
      "\n"
     ]
    }
   ],
   "source": [
    "# проверка групп А/В (249 и 248)\n",
    "automation (3, 2, 0.1)"
   ]
  },
  {
   "cell_type": "markdown",
   "metadata": {},
   "source": [
    "**Вывод:**   \n",
    "- Между группой А1 (246) и группой В (248) значимых различий нет.  \n",
    "- Между ггруппой А2 (247) и группой В (248) есть значимая разница в доле пользоватей, перешедших к странице корзины (48% у группы В против 50% у группы А2).\n",
    "- Между объединенной группой А (249) и группой В (248) значимых различий нет.  "
   ]
  },
  {
   "cell_type": "markdown",
   "metadata": {},
   "source": [
    "### Проверка гипотез при уровне стат.значимости 0.05"
   ]
  },
  {
   "cell_type": "markdown",
   "metadata": {},
   "source": [
    "H_0: Доля в выборке А1 = Доля в выборке А2\n",
    "\n",
    "H_1: Доля в выборке А1 != Доля в выборке А2\n",
    "\n",
    "alpha = 0.05"
   ]
  },
  {
   "cell_type": "code",
   "execution_count": 93,
   "metadata": {},
   "outputs": [
    {
     "name": "stdout",
     "output_type": "stream",
     "text": [
      "Результаты теста по долям MainScreenAppear для групп\n",
      "p-значение:  0.7570597232046099 Не получилось отвергнуть нулевую гипотезу, нет оснований считать доли разными\n",
      "\n",
      "Результаты теста по долям OffersScreenAppear для групп\n",
      "p-значение:  0.2480954578522181 Не получилось отвергнуть нулевую гипотезу, нет оснований считать доли разными\n",
      "\n",
      "Результаты теста по долям CartScreenAppear для групп\n",
      "p-значение:  0.22883372237997213 Не получилось отвергнуть нулевую гипотезу, нет оснований считать доли разными\n",
      "\n",
      "Результаты теста по долям PaymentScreenSuccessful для групп\n",
      "p-значение:  0.11456679313141849 Не получилось отвергнуть нулевую гипотезу, нет оснований считать доли разными\n",
      "\n"
     ]
    }
   ],
   "source": [
    "automation (0, 1, 0.05)"
   ]
  },
  {
   "cell_type": "markdown",
   "metadata": {},
   "source": [
    "H_0: Доля в выборке А1 = Доля в выборке В\n",
    "\n",
    "H_1: Доля в выборке А1 != Доля в выборке В\n",
    "\n",
    "alpha = 0.05"
   ]
  },
  {
   "cell_type": "code",
   "execution_count": 94,
   "metadata": {},
   "outputs": [
    {
     "name": "stdout",
     "output_type": "stream",
     "text": [
      "Результаты теста по долям MainScreenAppear для групп\n",
      "p-значение:  0.2949721933554552 Не получилось отвергнуть нулевую гипотезу, нет оснований считать доли разными\n",
      "\n",
      "Результаты теста по долям OffersScreenAppear для групп\n",
      "p-значение:  0.20836205402738917 Не получилось отвергнуть нулевую гипотезу, нет оснований считать доли разными\n",
      "\n",
      "Результаты теста по долям CartScreenAppear для групп\n",
      "p-значение:  0.07842923237520116 Не получилось отвергнуть нулевую гипотезу, нет оснований считать доли разными\n",
      "\n",
      "Результаты теста по долям PaymentScreenSuccessful для групп\n",
      "p-значение:  0.2122553275697796 Не получилось отвергнуть нулевую гипотезу, нет оснований считать доли разными\n",
      "\n"
     ]
    }
   ],
   "source": [
    "automation (0, 2, 0.05)"
   ]
  },
  {
   "cell_type": "markdown",
   "metadata": {},
   "source": [
    "H_0: Доля в выборке А2 = Доля в выборке В\n",
    "\n",
    "H_1: Доля в выборке А2 != Доля в выборке В\n",
    "\n",
    "alpha = 0.05"
   ]
  },
  {
   "cell_type": "code",
   "execution_count": 95,
   "metadata": {},
   "outputs": [
    {
     "name": "stdout",
     "output_type": "stream",
     "text": [
      "Результаты теста по долям MainScreenAppear для групп\n",
      "p-значение:  0.4587053616621515 Не получилось отвергнуть нулевую гипотезу, нет оснований считать доли разными\n",
      "\n",
      "Результаты теста по долям OffersScreenAppear для групп\n",
      "p-значение:  0.9197817830592261 Не получилось отвергнуть нулевую гипотезу, нет оснований считать доли разными\n",
      "\n",
      "Результаты теста по долям CartScreenAppear для групп\n",
      "p-значение:  0.5786197879539783 Не получилось отвергнуть нулевую гипотезу, нет оснований считать доли разными\n",
      "\n",
      "Результаты теста по долям PaymentScreenSuccessful для групп\n",
      "p-значение:  0.7373415053803964 Не получилось отвергнуть нулевую гипотезу, нет оснований считать доли разными\n",
      "\n"
     ]
    }
   ],
   "source": [
    "automation (1, 2, 0.05)"
   ]
  },
  {
   "cell_type": "markdown",
   "metadata": {},
   "source": [
    "H_0: Доля в выборке А = Доля в выборке В\n",
    "\n",
    "H_1: Доля в выборке А != Доля в выборке В\n",
    "\n",
    "alpha = 0.05"
   ]
  },
  {
   "cell_type": "code",
   "execution_count": 96,
   "metadata": {},
   "outputs": [
    {
     "name": "stdout",
     "output_type": "stream",
     "text": [
      "Результаты теста по долям MainScreenAppear для групп\n",
      "p-значение:  0.29424526837179577 Не получилось отвергнуть нулевую гипотезу, нет оснований считать доли разными\n",
      "\n",
      "Результаты теста по долям OffersScreenAppear для групп\n",
      "p-значение:  0.43425549655188256 Не получилось отвергнуть нулевую гипотезу, нет оснований считать доли разными\n",
      "\n",
      "Результаты теста по долям CartScreenAppear для групп\n",
      "p-значение:  0.18175875284404386 Не получилось отвергнуть нулевую гипотезу, нет оснований считать доли разными\n",
      "\n",
      "Результаты теста по долям PaymentScreenSuccessful для групп\n",
      "p-значение:  0.6004294282308704 Не получилось отвергнуть нулевую гипотезу, нет оснований считать доли разными\n",
      "\n"
     ]
    }
   ],
   "source": [
    "automation (3, 2, 0.05)"
   ]
  },
  {
   "cell_type": "markdown",
   "metadata": {},
   "source": [
    "**Вывод**: При измепнении уровня значимости на 0.05 доли во всех выборках равны. Различий между контрольными группами и тестовой нет."
   ]
  },
  {
   "cell_type": "markdown",
   "metadata": {},
   "source": [
    "**Вывод:**\n",
    "- В 246 группе 2484 пользователя, в 247 группе 2513 пользователей, в группе 248, с увеличенными шрифтами, 2537 пользователей.\n",
    "- Нет оснований считать контрольные выборки групп 246 и 247 разными. Контрольные группы выбраны верны.\n",
    "- Показ главного экрана сайта - самое популярное событие. С этого и начинается воронка продаж.\n",
    "- Между группой А1 (246) и группой В (248) значимых различий нет.\n",
    "Между ггруппой А2 (247) и группой В (248) есть значимая разница в доле пользоватей, перешедших к странице корзины (48% у группы В против 50% у группы А2).\n",
    "Между объединенной группой А (249) и группой В (248) значимых различий нет.\n",
    "-  При измепнении уровня значимости на 0.05 доли во всех выборках равны. Различий между контрольными группами и тестовой нет."
   ]
  },
  {
   "cell_type": "markdown",
   "metadata": {},
   "source": [
    "## Вывод"
   ]
  },
  {
   "cell_type": "markdown",
   "metadata": {},
   "source": [
    "- Все названия столбцов необходимо привести к нижнему регистру. Также потребуется измение типов данных в некоторых столбцах.\n",
    "- В рамках предобработки данных были удалены дубликаты; изменины типы данных; добавлен столбец с датой; пропуски в таблице отсутствуют; названия столбцов приведены к нижнему регистру;\n",
    "- Всего событий в логе: 243713;\n",
    "- Всего пользователей в логе: 7551;\n",
    "- В среднем событий на пользователя (округлено): 32.28;\n",
    "- Максимальная дата: 2019-08-07;\n",
    "- Минимальная дата: 2019-07-25;\n",
    "- У группы 248 показатель общего кол-ва событий наиболее высокий за рассматриваемый период. Кол-во тех или иных событий по разным группам в зависимости от периода имеет относительно схожий удельный вес.\n",
    "- До 01.08.2019 видим незначительное количество событий. Отбросим все события до 01.08.2019;\n",
    "- Наименьшее кол-во событий наблюдается в 2019-08-04, наибольшее 2019-08-05;\n",
    "- После фильтрации было потеряно 2826 событий;\n",
    "- Доля потерь пользователей: 0.23 %\n",
    "- Доля потерь событий: 1.16 %\n",
    "- От 7-8к событий приходится на каждую группу.\n",
    "- На графике 5 событий, по убыванию их популярности: показ пользователю главного экрана, показ экрана с предложением, показ экрана корзины, показ экрана с подтверждением оплаты, показ обучения;\n",
    "- Рассматриваемые события складываются в воронку продаж. Самое популярное событие - показ главного экрана, а самое непопулярное, которое входит в воронку продаж, - показ экрана оплаты;\n",
    "- На экран с предложением проходит 62% пользователей, посмотревших главный экран.\n",
    "- На экран с корзиной переходит 81% пользователей.\n",
    "- На экран с успешной оплатой переходит 95% пользователей.\n",
    "- К экрану с предложением проходит только 62% пользователей. Наименее популярным событием в воронке продаж,как и следовало ожидать,является событие перехода к оплате. Но если смотреть на конверсию, то большой процент пользователей теряется при переходе от главного экрана к самому экрану с предложением.\n",
    "- Доля пользователей, дошедших от первого события до оплаты: 47.68%;\n",
    "- В 246 группе 2484 пользователя, в 247 группе 2513 пользователей, в группе 248, с увеличенными шрифтами, 2537 пользователей.\n",
    "- Нет оснований считать контрольные выборки групп 246 и 247 разными. Контрольные группы выбраны верны.\n",
    "- Показ главного экрана сайта - самое популярное событие. С этого и начинается воронка продаж.\n",
    "- Между группой А1 (246) и группой В (248) значимых различий нет. Между ггруппой А2 (247) и группой В (248) есть значимая разница в доле пользоватей, перешедших к странице корзины (48% у группы В против 50% у группы А2). Между объединенной группой А (249) и группой В (248) значимых различий нет.\n",
    "- При измепнении уровня значимости на 0.05 доли во всех выборках равны. Различий между контрольными группами и тестовой нет."
   ]
  },
  {
   "cell_type": "markdown",
   "metadata": {},
   "source": [
    "**По результатам анализа можно сделать вывод:** дизайнеры захотели поменять шрифты во всём приложении, а менеджеры испугались, что пользователям будет непривычно - в этом случае менеджеры были правы, шрифты менять не нужно."
   ]
  }
 ],
 "metadata": {
  "ExecuteTimeLog": [
   {
    "duration": 1368,
    "start_time": "2023-09-12T14:30:21.049Z"
   },
   {
    "duration": 447,
    "start_time": "2023-09-12T14:31:45.531Z"
   },
   {
    "duration": 657,
    "start_time": "2023-09-12T14:31:51.505Z"
   },
   {
    "duration": 15,
    "start_time": "2023-09-12T14:31:56.488Z"
   },
   {
    "duration": 655,
    "start_time": "2023-09-12T14:34:45.088Z"
   },
   {
    "duration": 697,
    "start_time": "2023-09-12T14:35:00.035Z"
   },
   {
    "duration": 706,
    "start_time": "2023-09-12T14:35:14.791Z"
   },
   {
    "duration": 9,
    "start_time": "2023-09-12T14:35:15.725Z"
   },
   {
    "duration": 187,
    "start_time": "2023-09-12T14:35:46.840Z"
   },
   {
    "duration": 10,
    "start_time": "2023-09-12T14:35:48.017Z"
   },
   {
    "duration": 4,
    "start_time": "2023-09-12T14:37:20.278Z"
   },
   {
    "duration": 10,
    "start_time": "2023-09-12T14:37:26.393Z"
   },
   {
    "duration": 4,
    "start_time": "2023-09-12T14:40:52.979Z"
   },
   {
    "duration": 4,
    "start_time": "2023-09-12T14:40:57.840Z"
   },
   {
    "duration": 12,
    "start_time": "2023-09-12T14:40:58.533Z"
   },
   {
    "duration": 3,
    "start_time": "2023-09-12T14:41:12.534Z"
   },
   {
    "duration": 10,
    "start_time": "2023-09-12T14:41:13.156Z"
   },
   {
    "duration": 3,
    "start_time": "2023-09-12T14:41:27.451Z"
   },
   {
    "duration": 186,
    "start_time": "2023-09-12T14:41:27.457Z"
   },
   {
    "duration": 11,
    "start_time": "2023-09-12T14:41:27.645Z"
   },
   {
    "duration": 15,
    "start_time": "2023-09-12T14:41:27.658Z"
   },
   {
    "duration": 19,
    "start_time": "2023-09-12T14:41:27.674Z"
   },
   {
    "duration": 4,
    "start_time": "2023-09-12T14:41:39.833Z"
   },
   {
    "duration": 10,
    "start_time": "2023-09-12T14:41:40.115Z"
   },
   {
    "duration": 22,
    "start_time": "2023-09-12T14:42:30.622Z"
   },
   {
    "duration": 55,
    "start_time": "2023-09-12T14:43:14.765Z"
   },
   {
    "duration": 26,
    "start_time": "2023-09-12T14:43:31.818Z"
   },
   {
    "duration": 62,
    "start_time": "2023-09-12T14:47:57.237Z"
   },
   {
    "duration": 55,
    "start_time": "2023-09-12T14:48:14.209Z"
   },
   {
    "duration": 3,
    "start_time": "2023-09-12T14:48:18.368Z"
   },
   {
    "duration": 195,
    "start_time": "2023-09-12T14:48:18.372Z"
   },
   {
    "duration": 10,
    "start_time": "2023-09-12T14:48:18.569Z"
   },
   {
    "duration": 4,
    "start_time": "2023-09-12T14:48:18.589Z"
   },
   {
    "duration": 12,
    "start_time": "2023-09-12T14:48:18.595Z"
   },
   {
    "duration": 26,
    "start_time": "2023-09-12T14:48:18.609Z"
   },
   {
    "duration": 85,
    "start_time": "2023-09-12T14:48:18.637Z"
   },
   {
    "duration": 62,
    "start_time": "2023-09-12T14:48:18.724Z"
   },
   {
    "duration": 21,
    "start_time": "2023-09-12T14:48:18.787Z"
   },
   {
    "duration": 56,
    "start_time": "2023-09-12T14:48:18.810Z"
   },
   {
    "duration": 8,
    "start_time": "2023-09-12T14:51:44.627Z"
   },
   {
    "duration": 13,
    "start_time": "2023-09-12T14:51:53.602Z"
   },
   {
    "duration": 23,
    "start_time": "2023-09-12T14:54:03.093Z"
   },
   {
    "duration": 1441,
    "start_time": "2023-09-12T14:55:17.975Z"
   },
   {
    "duration": 69,
    "start_time": "2023-09-12T14:55:50.773Z"
   },
   {
    "duration": 15,
    "start_time": "2023-09-12T14:55:54.954Z"
   },
   {
    "duration": 32,
    "start_time": "2023-09-12T14:56:28.206Z"
   },
   {
    "duration": 123,
    "start_time": "2023-09-12T14:57:43.332Z"
   },
   {
    "duration": 16,
    "start_time": "2023-09-12T14:57:44.612Z"
   },
   {
    "duration": 26,
    "start_time": "2023-09-12T14:57:50.878Z"
   },
   {
    "duration": 14,
    "start_time": "2023-09-12T15:01:08.952Z"
   },
   {
    "duration": 7,
    "start_time": "2023-09-12T15:01:19.411Z"
   },
   {
    "duration": 4,
    "start_time": "2023-09-12T15:01:30.952Z"
   },
   {
    "duration": 73,
    "start_time": "2023-09-12T15:01:55.600Z"
   },
   {
    "duration": 3,
    "start_time": "2023-09-12T15:03:07.426Z"
   },
   {
    "duration": 1460,
    "start_time": "2023-09-12T15:04:14.173Z"
   },
   {
    "duration": 7,
    "start_time": "2023-09-12T15:04:36.665Z"
   },
   {
    "duration": 6,
    "start_time": "2023-09-12T15:05:24.195Z"
   },
   {
    "duration": 1315,
    "start_time": "2023-09-12T15:06:51.939Z"
   },
   {
    "duration": 462,
    "start_time": "2023-09-12T15:06:58.274Z"
   },
   {
    "duration": 465,
    "start_time": "2023-09-12T15:09:23.537Z"
   },
   {
    "duration": 1368,
    "start_time": "2023-09-12T15:13:07.502Z"
   },
   {
    "duration": 658,
    "start_time": "2023-09-12T15:13:31.163Z"
   },
   {
    "duration": 693,
    "start_time": "2023-09-12T15:13:40.700Z"
   },
   {
    "duration": 1246,
    "start_time": "2023-09-12T16:53:15.018Z"
   },
   {
    "duration": 562,
    "start_time": "2023-09-12T16:53:16.266Z"
   },
   {
    "duration": 13,
    "start_time": "2023-09-12T16:53:16.830Z"
   },
   {
    "duration": 3,
    "start_time": "2023-09-12T16:53:16.844Z"
   },
   {
    "duration": 21,
    "start_time": "2023-09-12T16:53:16.849Z"
   },
   {
    "duration": 36,
    "start_time": "2023-09-12T16:53:16.871Z"
   },
   {
    "duration": 65,
    "start_time": "2023-09-12T16:53:16.908Z"
   },
   {
    "duration": 89,
    "start_time": "2023-09-12T16:53:16.976Z"
   },
   {
    "duration": 20,
    "start_time": "2023-09-12T16:53:17.068Z"
   },
   {
    "duration": 35,
    "start_time": "2023-09-12T16:53:17.090Z"
   },
   {
    "duration": 32,
    "start_time": "2023-09-12T16:53:17.129Z"
   },
   {
    "duration": 177,
    "start_time": "2023-09-12T16:53:17.164Z"
   },
   {
    "duration": 24,
    "start_time": "2023-09-12T16:53:17.342Z"
   },
   {
    "duration": 33,
    "start_time": "2023-09-12T16:53:17.369Z"
   },
   {
    "duration": 18,
    "start_time": "2023-09-12T16:53:17.403Z"
   },
   {
    "duration": 19,
    "start_time": "2023-09-12T16:53:17.422Z"
   },
   {
    "duration": 97,
    "start_time": "2023-09-12T16:53:17.442Z"
   },
   {
    "duration": 0,
    "start_time": "2023-09-12T16:53:17.541Z"
   },
   {
    "duration": 0,
    "start_time": "2023-09-12T16:53:17.542Z"
   },
   {
    "duration": 0,
    "start_time": "2023-09-12T16:53:17.551Z"
   },
   {
    "duration": 4,
    "start_time": "2023-09-12T16:54:56.549Z"
   },
   {
    "duration": 5,
    "start_time": "2023-09-12T16:54:58.070Z"
   },
   {
    "duration": 427,
    "start_time": "2023-09-12T16:54:58.809Z"
   },
   {
    "duration": 751,
    "start_time": "2023-09-12T16:55:08.313Z"
   },
   {
    "duration": 12,
    "start_time": "2023-09-12T16:56:36.568Z"
   },
   {
    "duration": 10,
    "start_time": "2023-09-12T16:56:47.267Z"
   },
   {
    "duration": 24,
    "start_time": "2023-09-12T16:58:18.676Z"
   },
   {
    "duration": 1423,
    "start_time": "2023-09-12T18:50:26.828Z"
   },
   {
    "duration": 784,
    "start_time": "2023-09-12T18:50:28.253Z"
   },
   {
    "duration": 15,
    "start_time": "2023-09-12T18:50:29.038Z"
   },
   {
    "duration": 11,
    "start_time": "2023-09-12T18:50:29.054Z"
   },
   {
    "duration": 15,
    "start_time": "2023-09-12T18:50:29.077Z"
   },
   {
    "duration": 38,
    "start_time": "2023-09-12T18:50:29.094Z"
   },
   {
    "duration": 73,
    "start_time": "2023-09-12T18:50:29.134Z"
   },
   {
    "duration": 86,
    "start_time": "2023-09-12T18:50:29.208Z"
   },
   {
    "duration": 18,
    "start_time": "2023-09-12T18:50:29.297Z"
   },
   {
    "duration": 27,
    "start_time": "2023-09-12T18:50:29.317Z"
   },
   {
    "duration": 19,
    "start_time": "2023-09-12T18:50:29.346Z"
   },
   {
    "duration": 128,
    "start_time": "2023-09-12T18:50:29.366Z"
   },
   {
    "duration": 16,
    "start_time": "2023-09-12T18:50:29.496Z"
   },
   {
    "duration": 23,
    "start_time": "2023-09-12T18:50:29.515Z"
   },
   {
    "duration": 41,
    "start_time": "2023-09-12T18:50:29.540Z"
   },
   {
    "duration": 29,
    "start_time": "2023-09-12T18:50:29.583Z"
   },
   {
    "duration": 116,
    "start_time": "2023-09-12T18:50:29.614Z"
   },
   {
    "duration": 0,
    "start_time": "2023-09-12T18:50:29.731Z"
   },
   {
    "duration": 0,
    "start_time": "2023-09-12T18:50:29.732Z"
   },
   {
    "duration": 0,
    "start_time": "2023-09-12T18:50:29.734Z"
   },
   {
    "duration": 0,
    "start_time": "2023-09-12T18:50:29.735Z"
   },
   {
    "duration": 0,
    "start_time": "2023-09-12T18:50:29.736Z"
   },
   {
    "duration": 27,
    "start_time": "2023-09-12T18:50:58.720Z"
   },
   {
    "duration": 13,
    "start_time": "2023-09-12T18:50:59.288Z"
   },
   {
    "duration": 341,
    "start_time": "2023-09-12T18:51:08.833Z"
   },
   {
    "duration": 11,
    "start_time": "2023-09-12T18:51:12.288Z"
   },
   {
    "duration": 5,
    "start_time": "2023-09-12T18:51:12.733Z"
   },
   {
    "duration": 6,
    "start_time": "2023-09-12T18:51:13.352Z"
   },
   {
    "duration": 552,
    "start_time": "2023-09-12T18:51:13.810Z"
   },
   {
    "duration": 811,
    "start_time": "2023-09-12T18:52:23.700Z"
   },
   {
    "duration": 265,
    "start_time": "2023-09-12T18:55:15.526Z"
   },
   {
    "duration": 226,
    "start_time": "2023-09-12T18:55:35.354Z"
   },
   {
    "duration": 1380,
    "start_time": "2023-09-12T19:00:03.449Z"
   },
   {
    "duration": 214,
    "start_time": "2023-09-12T19:00:04.832Z"
   },
   {
    "duration": 20,
    "start_time": "2023-09-12T19:00:05.048Z"
   },
   {
    "duration": 55,
    "start_time": "2023-09-12T19:00:05.069Z"
   },
   {
    "duration": 76,
    "start_time": "2023-09-12T19:00:05.128Z"
   },
   {
    "duration": 73,
    "start_time": "2023-09-12T19:00:05.205Z"
   },
   {
    "duration": 114,
    "start_time": "2023-09-12T19:00:05.280Z"
   },
   {
    "duration": 98,
    "start_time": "2023-09-12T19:00:05.396Z"
   },
   {
    "duration": 17,
    "start_time": "2023-09-12T19:00:05.496Z"
   },
   {
    "duration": 43,
    "start_time": "2023-09-12T19:00:05.514Z"
   },
   {
    "duration": 40,
    "start_time": "2023-09-12T19:00:05.559Z"
   },
   {
    "duration": 169,
    "start_time": "2023-09-12T19:00:05.602Z"
   },
   {
    "duration": 14,
    "start_time": "2023-09-12T19:00:05.773Z"
   },
   {
    "duration": 46,
    "start_time": "2023-09-12T19:00:05.790Z"
   },
   {
    "duration": 66,
    "start_time": "2023-09-12T19:00:05.839Z"
   },
   {
    "duration": 87,
    "start_time": "2023-09-12T19:00:05.907Z"
   },
   {
    "duration": 378,
    "start_time": "2023-09-12T19:00:05.996Z"
   },
   {
    "duration": 13,
    "start_time": "2023-09-12T19:00:06.376Z"
   },
   {
    "duration": 27,
    "start_time": "2023-09-12T19:00:06.391Z"
   },
   {
    "duration": 39,
    "start_time": "2023-09-12T19:00:06.420Z"
   },
   {
    "duration": 503,
    "start_time": "2023-09-12T19:00:06.461Z"
   },
   {
    "duration": 1210,
    "start_time": "2023-09-12T19:03:08.807Z"
   },
   {
    "duration": 195,
    "start_time": "2023-09-12T19:03:10.019Z"
   },
   {
    "duration": 13,
    "start_time": "2023-09-12T19:03:10.216Z"
   },
   {
    "duration": 4,
    "start_time": "2023-09-12T19:03:10.231Z"
   },
   {
    "duration": 36,
    "start_time": "2023-09-12T19:03:10.237Z"
   },
   {
    "duration": 46,
    "start_time": "2023-09-12T19:03:10.275Z"
   },
   {
    "duration": 73,
    "start_time": "2023-09-12T19:03:10.323Z"
   },
   {
    "duration": 81,
    "start_time": "2023-09-12T19:03:10.398Z"
   },
   {
    "duration": 17,
    "start_time": "2023-09-12T19:03:10.481Z"
   },
   {
    "duration": 27,
    "start_time": "2023-09-12T19:03:10.500Z"
   },
   {
    "duration": 35,
    "start_time": "2023-09-12T19:03:10.528Z"
   },
   {
    "duration": 140,
    "start_time": "2023-09-12T19:03:10.565Z"
   },
   {
    "duration": 26,
    "start_time": "2023-09-12T19:03:10.707Z"
   },
   {
    "duration": 43,
    "start_time": "2023-09-12T19:03:10.736Z"
   },
   {
    "duration": 15,
    "start_time": "2023-09-12T19:03:10.781Z"
   },
   {
    "duration": 36,
    "start_time": "2023-09-12T19:03:10.798Z"
   },
   {
    "duration": 334,
    "start_time": "2023-09-12T19:03:10.836Z"
   },
   {
    "duration": 11,
    "start_time": "2023-09-12T19:03:11.172Z"
   },
   {
    "duration": 12,
    "start_time": "2023-09-12T19:03:11.184Z"
   },
   {
    "duration": 18,
    "start_time": "2023-09-12T19:03:11.198Z"
   },
   {
    "duration": 482,
    "start_time": "2023-09-12T19:03:11.219Z"
   },
   {
    "duration": 1330,
    "start_time": "2023-09-12T19:04:15.672Z"
   },
   {
    "duration": 181,
    "start_time": "2023-09-12T19:04:17.004Z"
   },
   {
    "duration": 13,
    "start_time": "2023-09-12T19:04:17.187Z"
   },
   {
    "duration": 4,
    "start_time": "2023-09-12T19:04:17.202Z"
   },
   {
    "duration": 21,
    "start_time": "2023-09-12T19:04:17.207Z"
   },
   {
    "duration": 46,
    "start_time": "2023-09-12T19:04:17.229Z"
   },
   {
    "duration": 70,
    "start_time": "2023-09-12T19:04:17.277Z"
   },
   {
    "duration": 93,
    "start_time": "2023-09-12T19:04:17.348Z"
   },
   {
    "duration": 30,
    "start_time": "2023-09-12T19:04:17.443Z"
   },
   {
    "duration": 27,
    "start_time": "2023-09-12T19:04:17.475Z"
   },
   {
    "duration": 43,
    "start_time": "2023-09-12T19:04:17.504Z"
   },
   {
    "duration": 131,
    "start_time": "2023-09-12T19:04:17.549Z"
   },
   {
    "duration": 15,
    "start_time": "2023-09-12T19:04:17.682Z"
   },
   {
    "duration": 37,
    "start_time": "2023-09-12T19:04:17.699Z"
   },
   {
    "duration": 16,
    "start_time": "2023-09-12T19:04:17.737Z"
   },
   {
    "duration": 33,
    "start_time": "2023-09-12T19:04:17.755Z"
   },
   {
    "duration": 333,
    "start_time": "2023-09-12T19:04:17.790Z"
   },
   {
    "duration": 10,
    "start_time": "2023-09-12T19:04:18.125Z"
   },
   {
    "duration": 30,
    "start_time": "2023-09-12T19:04:18.137Z"
   },
   {
    "duration": 17,
    "start_time": "2023-09-12T19:04:18.169Z"
   },
   {
    "duration": 451,
    "start_time": "2023-09-12T19:04:18.188Z"
   },
   {
    "duration": 303,
    "start_time": "2023-09-12T19:04:18.641Z"
   },
   {
    "duration": 118,
    "start_time": "2023-09-12T19:05:03.004Z"
   },
   {
    "duration": 236,
    "start_time": "2023-09-12T19:05:10.956Z"
   },
   {
    "duration": 233,
    "start_time": "2023-09-12T19:05:55.882Z"
   },
   {
    "duration": 225,
    "start_time": "2023-09-12T19:06:15.805Z"
   },
   {
    "duration": 135,
    "start_time": "2023-09-12T19:08:33.958Z"
   },
   {
    "duration": 22,
    "start_time": "2023-09-12T19:08:46.922Z"
   },
   {
    "duration": 354,
    "start_time": "2023-09-12T19:09:32.155Z"
   },
   {
    "duration": 215,
    "start_time": "2023-09-12T19:10:18.483Z"
   },
   {
    "duration": 7,
    "start_time": "2023-09-12T19:11:50.318Z"
   },
   {
    "duration": 11,
    "start_time": "2023-09-12T19:12:33.930Z"
   },
   {
    "duration": 10,
    "start_time": "2023-09-12T19:12:58.115Z"
   },
   {
    "duration": 8,
    "start_time": "2023-09-12T19:14:01.569Z"
   },
   {
    "duration": 8,
    "start_time": "2023-09-12T19:14:06.371Z"
   },
   {
    "duration": 4,
    "start_time": "2023-09-12T19:16:45.278Z"
   },
   {
    "duration": 9,
    "start_time": "2023-09-12T19:18:47.838Z"
   },
   {
    "duration": 12,
    "start_time": "2023-09-12T19:19:11.992Z"
   },
   {
    "duration": 10,
    "start_time": "2023-09-12T19:19:56.641Z"
   },
   {
    "duration": 5,
    "start_time": "2023-09-12T19:20:20.514Z"
   },
   {
    "duration": 8,
    "start_time": "2023-09-12T19:22:44.571Z"
   },
   {
    "duration": 11,
    "start_time": "2023-09-12T19:27:38.058Z"
   },
   {
    "duration": 5,
    "start_time": "2023-09-12T19:27:44.862Z"
   },
   {
    "duration": 12,
    "start_time": "2023-09-12T19:28:00.159Z"
   },
   {
    "duration": 4,
    "start_time": "2023-09-12T19:28:01.001Z"
   },
   {
    "duration": 4,
    "start_time": "2023-09-12T19:28:50.652Z"
   },
   {
    "duration": 4,
    "start_time": "2023-09-12T19:28:58.274Z"
   },
   {
    "duration": 5,
    "start_time": "2023-09-12T19:30:10.367Z"
   },
   {
    "duration": 13,
    "start_time": "2023-09-12T19:31:31.455Z"
   },
   {
    "duration": 11,
    "start_time": "2023-09-12T19:31:34.472Z"
   },
   {
    "duration": 7,
    "start_time": "2023-09-12T19:31:38.400Z"
   },
   {
    "duration": 25,
    "start_time": "2023-09-12T19:35:12.483Z"
   },
   {
    "duration": 308,
    "start_time": "2023-09-12T19:35:13.224Z"
   },
   {
    "duration": 4,
    "start_time": "2023-09-12T19:35:29.687Z"
   },
   {
    "duration": 202,
    "start_time": "2023-09-12T19:35:29.693Z"
   },
   {
    "duration": 13,
    "start_time": "2023-09-12T19:35:29.897Z"
   },
   {
    "duration": 15,
    "start_time": "2023-09-12T19:35:29.911Z"
   },
   {
    "duration": 19,
    "start_time": "2023-09-12T19:35:29.929Z"
   },
   {
    "duration": 34,
    "start_time": "2023-09-12T19:35:29.950Z"
   },
   {
    "duration": 84,
    "start_time": "2023-09-12T19:35:29.986Z"
   },
   {
    "duration": 85,
    "start_time": "2023-09-12T19:35:30.072Z"
   },
   {
    "duration": 32,
    "start_time": "2023-09-12T19:35:30.158Z"
   },
   {
    "duration": 55,
    "start_time": "2023-09-12T19:35:30.191Z"
   },
   {
    "duration": 66,
    "start_time": "2023-09-12T19:35:30.247Z"
   },
   {
    "duration": 169,
    "start_time": "2023-09-12T19:35:30.315Z"
   },
   {
    "duration": 16,
    "start_time": "2023-09-12T19:35:30.486Z"
   },
   {
    "duration": 55,
    "start_time": "2023-09-12T19:35:30.505Z"
   },
   {
    "duration": 35,
    "start_time": "2023-09-12T19:35:30.562Z"
   },
   {
    "duration": 32,
    "start_time": "2023-09-12T19:35:30.599Z"
   },
   {
    "duration": 5,
    "start_time": "2023-09-12T19:35:30.633Z"
   },
   {
    "duration": 17,
    "start_time": "2023-09-12T19:35:30.640Z"
   },
   {
    "duration": 525,
    "start_time": "2023-09-12T19:35:30.659Z"
   },
   {
    "duration": 247,
    "start_time": "2023-09-12T19:35:31.186Z"
   },
   {
    "duration": 265,
    "start_time": "2023-09-12T19:35:31.436Z"
   },
   {
    "duration": 10,
    "start_time": "2023-09-12T19:35:31.703Z"
   },
   {
    "duration": 88,
    "start_time": "2023-09-12T19:35:31.715Z"
   },
   {
    "duration": 47,
    "start_time": "2023-09-12T19:35:31.805Z"
   },
   {
    "duration": 47,
    "start_time": "2023-09-12T19:35:31.854Z"
   },
   {
    "duration": 81,
    "start_time": "2023-09-12T19:35:31.903Z"
   },
   {
    "duration": 407,
    "start_time": "2023-09-12T19:35:31.986Z"
   },
   {
    "duration": 67,
    "start_time": "2023-09-12T19:37:19.640Z"
   },
   {
    "duration": 75,
    "start_time": "2023-09-12T19:37:30.735Z"
   },
   {
    "duration": 68,
    "start_time": "2023-09-12T19:38:36.083Z"
   },
   {
    "duration": 21,
    "start_time": "2023-09-12T19:47:53.782Z"
   },
   {
    "duration": 29,
    "start_time": "2023-09-12T19:48:10.059Z"
   },
   {
    "duration": 32,
    "start_time": "2023-09-12T19:50:29.782Z"
   },
   {
    "duration": 27,
    "start_time": "2023-09-12T19:51:30.468Z"
   },
   {
    "duration": 7,
    "start_time": "2023-09-12T19:56:58.038Z"
   },
   {
    "duration": 1692,
    "start_time": "2023-09-13T10:57:31.129Z"
   },
   {
    "duration": 551,
    "start_time": "2023-09-13T10:57:32.823Z"
   },
   {
    "duration": 19,
    "start_time": "2023-09-13T10:57:33.376Z"
   },
   {
    "duration": 4,
    "start_time": "2023-09-13T10:57:33.397Z"
   },
   {
    "duration": 21,
    "start_time": "2023-09-13T10:57:33.404Z"
   },
   {
    "duration": 36,
    "start_time": "2023-09-13T10:57:33.427Z"
   },
   {
    "duration": 71,
    "start_time": "2023-09-13T10:57:33.465Z"
   },
   {
    "duration": 81,
    "start_time": "2023-09-13T10:57:33.538Z"
   },
   {
    "duration": 17,
    "start_time": "2023-09-13T10:57:33.621Z"
   },
   {
    "duration": 22,
    "start_time": "2023-09-13T10:57:33.640Z"
   },
   {
    "duration": 33,
    "start_time": "2023-09-13T10:57:33.664Z"
   },
   {
    "duration": 124,
    "start_time": "2023-09-13T10:57:33.699Z"
   },
   {
    "duration": 16,
    "start_time": "2023-09-13T10:57:33.825Z"
   },
   {
    "duration": 25,
    "start_time": "2023-09-13T10:57:33.845Z"
   },
   {
    "duration": 21,
    "start_time": "2023-09-13T10:57:33.881Z"
   },
   {
    "duration": 9,
    "start_time": "2023-09-13T10:57:33.904Z"
   },
   {
    "duration": 8,
    "start_time": "2023-09-13T10:57:33.915Z"
   },
   {
    "duration": 7,
    "start_time": "2023-09-13T10:57:33.925Z"
   },
   {
    "duration": 501,
    "start_time": "2023-09-13T10:57:33.933Z"
   },
   {
    "duration": 297,
    "start_time": "2023-09-13T10:57:34.436Z"
   },
   {
    "duration": 236,
    "start_time": "2023-09-13T10:57:34.735Z"
   },
   {
    "duration": 21,
    "start_time": "2023-09-13T10:57:34.972Z"
   },
   {
    "duration": 10,
    "start_time": "2023-09-13T10:57:34.995Z"
   },
   {
    "duration": 4,
    "start_time": "2023-09-13T10:57:35.007Z"
   },
   {
    "duration": 13,
    "start_time": "2023-09-13T10:57:35.012Z"
   },
   {
    "duration": 30,
    "start_time": "2023-09-13T10:57:35.027Z"
   },
   {
    "duration": 339,
    "start_time": "2023-09-13T10:57:35.058Z"
   },
   {
    "duration": 64,
    "start_time": "2023-09-13T10:57:35.399Z"
   },
   {
    "duration": 39,
    "start_time": "2023-09-13T10:57:35.465Z"
   },
   {
    "duration": 7,
    "start_time": "2023-09-13T10:57:35.506Z"
   },
   {
    "duration": 54,
    "start_time": "2023-09-13T11:03:27.653Z"
   },
   {
    "duration": 31,
    "start_time": "2023-09-13T11:03:44.630Z"
   },
   {
    "duration": 219,
    "start_time": "2023-09-13T11:04:52.912Z"
   },
   {
    "duration": 264,
    "start_time": "2023-09-13T11:05:14.035Z"
   },
   {
    "duration": 309,
    "start_time": "2023-09-13T11:06:12.118Z"
   },
   {
    "duration": 280,
    "start_time": "2023-09-13T11:07:13.345Z"
   },
   {
    "duration": 139,
    "start_time": "2023-09-13T11:12:19.897Z"
   },
   {
    "duration": 2802,
    "start_time": "2023-09-13T11:12:43.446Z"
   },
   {
    "duration": 23,
    "start_time": "2023-09-13T11:13:39.035Z"
   },
   {
    "duration": 3,
    "start_time": "2023-09-13T11:14:04.731Z"
   },
   {
    "duration": 240,
    "start_time": "2023-09-13T11:14:04.736Z"
   },
   {
    "duration": 30,
    "start_time": "2023-09-13T11:14:04.978Z"
   },
   {
    "duration": 43,
    "start_time": "2023-09-13T11:14:05.010Z"
   },
   {
    "duration": 55,
    "start_time": "2023-09-13T11:14:05.054Z"
   },
   {
    "duration": 42,
    "start_time": "2023-09-13T11:14:05.111Z"
   },
   {
    "duration": 108,
    "start_time": "2023-09-13T11:14:05.155Z"
   },
   {
    "duration": 71,
    "start_time": "2023-09-13T11:14:05.265Z"
   },
   {
    "duration": 16,
    "start_time": "2023-09-13T11:14:05.340Z"
   },
   {
    "duration": 18,
    "start_time": "2023-09-13T11:14:05.358Z"
   },
   {
    "duration": 38,
    "start_time": "2023-09-13T11:14:05.378Z"
   },
   {
    "duration": 145,
    "start_time": "2023-09-13T11:14:05.418Z"
   },
   {
    "duration": 26,
    "start_time": "2023-09-13T11:14:05.565Z"
   },
   {
    "duration": 75,
    "start_time": "2023-09-13T11:14:05.592Z"
   },
   {
    "duration": 41,
    "start_time": "2023-09-13T11:14:05.669Z"
   },
   {
    "duration": 31,
    "start_time": "2023-09-13T11:14:05.712Z"
   },
   {
    "duration": 10,
    "start_time": "2023-09-13T11:14:05.745Z"
   },
   {
    "duration": 42,
    "start_time": "2023-09-13T11:14:05.757Z"
   },
   {
    "duration": 506,
    "start_time": "2023-09-13T11:14:05.800Z"
   },
   {
    "duration": 258,
    "start_time": "2023-09-13T11:14:06.308Z"
   },
   {
    "duration": 272,
    "start_time": "2023-09-13T11:14:06.567Z"
   },
   {
    "duration": 11,
    "start_time": "2023-09-13T11:14:06.841Z"
   },
   {
    "duration": 16,
    "start_time": "2023-09-13T11:14:06.854Z"
   },
   {
    "duration": 17,
    "start_time": "2023-09-13T11:14:06.873Z"
   },
   {
    "duration": 27,
    "start_time": "2023-09-13T11:14:06.892Z"
   },
   {
    "duration": 43,
    "start_time": "2023-09-13T11:14:06.921Z"
   },
   {
    "duration": 302,
    "start_time": "2023-09-13T11:14:06.967Z"
   },
   {
    "duration": 83,
    "start_time": "2023-09-13T11:14:07.272Z"
   },
   {
    "duration": 46,
    "start_time": "2023-09-13T11:14:07.357Z"
   },
   {
    "duration": 27,
    "start_time": "2023-09-13T11:14:07.407Z"
   },
   {
    "duration": 69,
    "start_time": "2023-09-13T11:14:07.436Z"
   },
   {
    "duration": 244,
    "start_time": "2023-09-13T11:14:07.506Z"
   },
   {
    "duration": 31,
    "start_time": "2023-09-13T11:14:07.752Z"
   },
   {
    "duration": 12,
    "start_time": "2023-09-13T11:20:37.543Z"
   },
   {
    "duration": 24,
    "start_time": "2023-09-13T11:20:44.482Z"
   },
   {
    "duration": 24,
    "start_time": "2023-09-13T11:20:52.851Z"
   },
   {
    "duration": 38,
    "start_time": "2023-09-13T11:24:34.513Z"
   },
   {
    "duration": 287,
    "start_time": "2023-09-13T11:24:35.665Z"
   },
   {
    "duration": 3139,
    "start_time": "2023-09-13T11:25:02.381Z"
   },
   {
    "duration": 180,
    "start_time": "2023-09-13T11:25:18.879Z"
   },
   {
    "duration": 6,
    "start_time": "2023-09-13T11:25:23.537Z"
   },
   {
    "duration": 7,
    "start_time": "2023-09-13T11:27:37.089Z"
   },
   {
    "duration": 8,
    "start_time": "2023-09-13T11:33:05.019Z"
   },
   {
    "duration": 202,
    "start_time": "2023-09-13T11:35:18.272Z"
   },
   {
    "duration": 67,
    "start_time": "2023-09-13T11:35:19.356Z"
   },
   {
    "duration": 3,
    "start_time": "2023-09-13T11:36:06.151Z"
   },
   {
    "duration": 219,
    "start_time": "2023-09-13T11:36:06.159Z"
   },
   {
    "duration": 23,
    "start_time": "2023-09-13T11:36:06.380Z"
   },
   {
    "duration": 6,
    "start_time": "2023-09-13T11:36:06.404Z"
   },
   {
    "duration": 24,
    "start_time": "2023-09-13T11:36:06.412Z"
   },
   {
    "duration": 27,
    "start_time": "2023-09-13T11:36:06.438Z"
   },
   {
    "duration": 87,
    "start_time": "2023-09-13T11:36:06.467Z"
   },
   {
    "duration": 71,
    "start_time": "2023-09-13T11:36:06.555Z"
   },
   {
    "duration": 18,
    "start_time": "2023-09-13T11:36:06.628Z"
   },
   {
    "duration": 21,
    "start_time": "2023-09-13T11:36:06.648Z"
   },
   {
    "duration": 38,
    "start_time": "2023-09-13T11:36:06.672Z"
   },
   {
    "duration": 304,
    "start_time": "2023-09-13T11:36:06.712Z"
   },
   {
    "duration": 18,
    "start_time": "2023-09-13T11:36:07.018Z"
   },
   {
    "duration": 56,
    "start_time": "2023-09-13T11:36:07.038Z"
   },
   {
    "duration": 18,
    "start_time": "2023-09-13T11:36:07.104Z"
   },
   {
    "duration": 17,
    "start_time": "2023-09-13T11:36:07.124Z"
   },
   {
    "duration": 26,
    "start_time": "2023-09-13T11:36:07.144Z"
   },
   {
    "duration": 9,
    "start_time": "2023-09-13T11:36:07.172Z"
   },
   {
    "duration": 564,
    "start_time": "2023-09-13T11:36:07.183Z"
   },
   {
    "duration": 359,
    "start_time": "2023-09-13T11:36:07.748Z"
   },
   {
    "duration": 267,
    "start_time": "2023-09-13T11:36:08.109Z"
   },
   {
    "duration": 17,
    "start_time": "2023-09-13T11:36:08.378Z"
   },
   {
    "duration": 26,
    "start_time": "2023-09-13T11:36:08.397Z"
   },
   {
    "duration": 6,
    "start_time": "2023-09-13T11:36:08.425Z"
   },
   {
    "duration": 69,
    "start_time": "2023-09-13T11:36:08.432Z"
   },
   {
    "duration": 43,
    "start_time": "2023-09-13T11:36:08.503Z"
   },
   {
    "duration": 358,
    "start_time": "2023-09-13T11:36:08.548Z"
   },
   {
    "duration": 62,
    "start_time": "2023-09-13T11:36:08.909Z"
   },
   {
    "duration": 36,
    "start_time": "2023-09-13T11:36:08.975Z"
   },
   {
    "duration": 6,
    "start_time": "2023-09-13T11:36:09.013Z"
   },
   {
    "duration": 45,
    "start_time": "2023-09-13T11:36:09.021Z"
   },
   {
    "duration": 280,
    "start_time": "2023-09-13T11:36:09.067Z"
   },
   {
    "duration": 53,
    "start_time": "2023-09-13T11:36:09.349Z"
   },
   {
    "duration": 51,
    "start_time": "2023-09-13T11:36:09.404Z"
   },
   {
    "duration": 64,
    "start_time": "2023-09-13T11:36:09.457Z"
   },
   {
    "duration": 6,
    "start_time": "2023-09-13T11:58:05.142Z"
   },
   {
    "duration": 15,
    "start_time": "2023-09-13T11:58:42.710Z"
   },
   {
    "duration": 5,
    "start_time": "2023-09-13T12:06:55.613Z"
   },
   {
    "duration": 13,
    "start_time": "2023-09-13T12:12:13.536Z"
   },
   {
    "duration": 111,
    "start_time": "2023-09-13T12:14:23.613Z"
   },
   {
    "duration": 149,
    "start_time": "2023-09-13T12:14:37.859Z"
   },
   {
    "duration": 211,
    "start_time": "2023-09-13T12:15:00.516Z"
   },
   {
    "duration": 217,
    "start_time": "2023-09-13T12:17:01.518Z"
   },
   {
    "duration": 106,
    "start_time": "2023-09-13T12:18:47.855Z"
   },
   {
    "duration": 142,
    "start_time": "2023-09-13T12:19:04.421Z"
   },
   {
    "duration": 158,
    "start_time": "2023-09-13T12:20:20.013Z"
   },
   {
    "duration": 7,
    "start_time": "2023-09-13T12:20:23.239Z"
   },
   {
    "duration": 210,
    "start_time": "2023-09-13T12:21:24.777Z"
   },
   {
    "duration": 157,
    "start_time": "2023-09-13T12:21:30.610Z"
   },
   {
    "duration": 191,
    "start_time": "2023-09-13T12:21:51.736Z"
   },
   {
    "duration": 223,
    "start_time": "2023-09-13T12:21:56.536Z"
   },
   {
    "duration": 5,
    "start_time": "2023-09-13T12:23:28.057Z"
   },
   {
    "duration": 16,
    "start_time": "2023-09-13T12:24:54.033Z"
   },
   {
    "duration": 8,
    "start_time": "2023-09-13T12:28:44.213Z"
   },
   {
    "duration": 22,
    "start_time": "2023-09-13T12:28:45.006Z"
   },
   {
    "duration": 12,
    "start_time": "2023-09-13T12:33:22.947Z"
   },
   {
    "duration": 2400,
    "start_time": "2023-09-13T12:33:38.009Z"
   },
   {
    "duration": 0,
    "start_time": "2023-09-13T12:33:40.411Z"
   },
   {
    "duration": 7,
    "start_time": "2023-09-13T12:34:21.009Z"
   },
   {
    "duration": 37,
    "start_time": "2023-09-13T12:34:57.868Z"
   },
   {
    "duration": 5,
    "start_time": "2023-09-13T13:05:28.373Z"
   },
   {
    "duration": 5,
    "start_time": "2023-09-13T13:05:29.860Z"
   },
   {
    "duration": 16,
    "start_time": "2023-09-13T13:05:31.712Z"
   },
   {
    "duration": 3,
    "start_time": "2023-09-13T13:06:01.679Z"
   },
   {
    "duration": 225,
    "start_time": "2023-09-13T13:06:01.685Z"
   },
   {
    "duration": 11,
    "start_time": "2023-09-13T13:06:01.913Z"
   },
   {
    "duration": 37,
    "start_time": "2023-09-13T13:06:01.927Z"
   },
   {
    "duration": 41,
    "start_time": "2023-09-13T13:06:01.966Z"
   },
   {
    "duration": 53,
    "start_time": "2023-09-13T13:06:02.009Z"
   },
   {
    "duration": 75,
    "start_time": "2023-09-13T13:06:02.227Z"
   },
   {
    "duration": 90,
    "start_time": "2023-09-13T13:06:02.304Z"
   },
   {
    "duration": 38,
    "start_time": "2023-09-13T13:06:02.395Z"
   },
   {
    "duration": 15,
    "start_time": "2023-09-13T13:06:02.438Z"
   },
   {
    "duration": 50,
    "start_time": "2023-09-13T13:06:02.456Z"
   },
   {
    "duration": 337,
    "start_time": "2023-09-13T13:06:02.514Z"
   },
   {
    "duration": 16,
    "start_time": "2023-09-13T13:06:02.853Z"
   },
   {
    "duration": 48,
    "start_time": "2023-09-13T13:06:02.883Z"
   },
   {
    "duration": 16,
    "start_time": "2023-09-13T13:06:02.934Z"
   },
   {
    "duration": 59,
    "start_time": "2023-09-13T13:06:02.951Z"
   },
   {
    "duration": 4,
    "start_time": "2023-09-13T13:06:03.013Z"
   },
   {
    "duration": 32,
    "start_time": "2023-09-13T13:06:03.018Z"
   },
   {
    "duration": 563,
    "start_time": "2023-09-13T13:06:03.052Z"
   },
   {
    "duration": 256,
    "start_time": "2023-09-13T13:06:03.617Z"
   },
   {
    "duration": 291,
    "start_time": "2023-09-13T13:06:03.875Z"
   },
   {
    "duration": 9,
    "start_time": "2023-09-13T13:06:04.167Z"
   },
   {
    "duration": 36,
    "start_time": "2023-09-13T13:06:04.183Z"
   },
   {
    "duration": 6,
    "start_time": "2023-09-13T13:06:04.221Z"
   },
   {
    "duration": 45,
    "start_time": "2023-09-13T13:06:04.228Z"
   },
   {
    "duration": 58,
    "start_time": "2023-09-13T13:06:04.275Z"
   },
   {
    "duration": 332,
    "start_time": "2023-09-13T13:06:04.335Z"
   },
   {
    "duration": 89,
    "start_time": "2023-09-13T13:06:04.671Z"
   },
   {
    "duration": 47,
    "start_time": "2023-09-13T13:06:04.762Z"
   },
   {
    "duration": 29,
    "start_time": "2023-09-13T13:06:04.810Z"
   },
   {
    "duration": 82,
    "start_time": "2023-09-13T13:06:04.842Z"
   },
   {
    "duration": 341,
    "start_time": "2023-09-13T13:06:04.926Z"
   },
   {
    "duration": 175,
    "start_time": "2023-09-13T13:06:05.268Z"
   },
   {
    "duration": 5,
    "start_time": "2023-09-13T13:06:05.446Z"
   },
   {
    "duration": 186,
    "start_time": "2023-09-13T13:06:05.453Z"
   },
   {
    "duration": 29,
    "start_time": "2023-09-13T13:06:05.641Z"
   },
   {
    "duration": 5,
    "start_time": "2023-09-13T13:07:51.409Z"
   },
   {
    "duration": 18,
    "start_time": "2023-09-13T13:07:52.206Z"
   },
   {
    "duration": 5,
    "start_time": "2023-09-13T13:08:27.908Z"
   },
   {
    "duration": 4,
    "start_time": "2023-09-13T13:08:30.867Z"
   },
   {
    "duration": 260,
    "start_time": "2023-09-13T13:08:30.874Z"
   },
   {
    "duration": 10,
    "start_time": "2023-09-13T13:08:31.136Z"
   },
   {
    "duration": 32,
    "start_time": "2023-09-13T13:08:31.149Z"
   },
   {
    "duration": 42,
    "start_time": "2023-09-13T13:08:31.183Z"
   },
   {
    "duration": 41,
    "start_time": "2023-09-13T13:08:31.226Z"
   },
   {
    "duration": 92,
    "start_time": "2023-09-13T13:08:31.269Z"
   },
   {
    "duration": 72,
    "start_time": "2023-09-13T13:08:31.363Z"
   },
   {
    "duration": 17,
    "start_time": "2023-09-13T13:08:31.438Z"
   },
   {
    "duration": 23,
    "start_time": "2023-09-13T13:08:31.457Z"
   },
   {
    "duration": 38,
    "start_time": "2023-09-13T13:08:31.485Z"
   },
   {
    "duration": 323,
    "start_time": "2023-09-13T13:08:31.524Z"
   },
   {
    "duration": 16,
    "start_time": "2023-09-13T13:08:31.849Z"
   },
   {
    "duration": 62,
    "start_time": "2023-09-13T13:08:31.866Z"
   },
   {
    "duration": 13,
    "start_time": "2023-09-13T13:08:31.930Z"
   },
   {
    "duration": 25,
    "start_time": "2023-09-13T13:08:31.944Z"
   },
   {
    "duration": 33,
    "start_time": "2023-09-13T13:08:31.970Z"
   },
   {
    "duration": 20,
    "start_time": "2023-09-13T13:08:32.006Z"
   },
   {
    "duration": 636,
    "start_time": "2023-09-13T13:08:32.028Z"
   },
   {
    "duration": 280,
    "start_time": "2023-09-13T13:08:32.666Z"
   },
   {
    "duration": 285,
    "start_time": "2023-09-13T13:08:32.948Z"
   },
   {
    "duration": 10,
    "start_time": "2023-09-13T13:08:33.235Z"
   },
   {
    "duration": 17,
    "start_time": "2023-09-13T13:08:33.246Z"
   },
   {
    "duration": 30,
    "start_time": "2023-09-13T13:08:33.266Z"
   },
   {
    "duration": 58,
    "start_time": "2023-09-13T13:08:33.298Z"
   },
   {
    "duration": 69,
    "start_time": "2023-09-13T13:08:33.357Z"
   },
   {
    "duration": 320,
    "start_time": "2023-09-13T13:08:33.428Z"
   },
   {
    "duration": 85,
    "start_time": "2023-09-13T13:08:33.750Z"
   },
   {
    "duration": 27,
    "start_time": "2023-09-13T13:08:33.836Z"
   },
   {
    "duration": 24,
    "start_time": "2023-09-13T13:08:33.883Z"
   },
   {
    "duration": 48,
    "start_time": "2023-09-13T13:08:33.909Z"
   },
   {
    "duration": 282,
    "start_time": "2023-09-13T13:08:33.959Z"
   },
   {
    "duration": 178,
    "start_time": "2023-09-13T13:08:34.243Z"
   },
   {
    "duration": 6,
    "start_time": "2023-09-13T13:08:34.423Z"
   },
   {
    "duration": 8,
    "start_time": "2023-09-13T13:08:34.431Z"
   },
   {
    "duration": 22,
    "start_time": "2023-09-13T13:08:34.440Z"
   },
   {
    "duration": 10,
    "start_time": "2023-09-13T13:08:57.308Z"
   },
   {
    "duration": 6,
    "start_time": "2023-09-13T13:08:57.669Z"
   },
   {
    "duration": 18,
    "start_time": "2023-09-13T13:08:58.269Z"
   },
   {
    "duration": 318,
    "start_time": "2023-09-13T13:12:53.808Z"
   },
   {
    "duration": 6,
    "start_time": "2023-09-13T13:18:52.564Z"
   },
   {
    "duration": 5,
    "start_time": "2023-09-13T13:18:53.447Z"
   },
   {
    "duration": 18,
    "start_time": "2023-09-13T13:18:54.267Z"
   },
   {
    "duration": 7,
    "start_time": "2023-09-13T13:19:44.145Z"
   },
   {
    "duration": 10,
    "start_time": "2023-09-13T13:19:44.738Z"
   },
   {
    "duration": 4,
    "start_time": "2023-09-13T13:21:22.564Z"
   },
   {
    "duration": 11,
    "start_time": "2023-09-13T13:21:33.214Z"
   },
   {
    "duration": 5,
    "start_time": "2023-09-13T13:23:57.453Z"
   },
   {
    "duration": 14,
    "start_time": "2023-09-13T13:23:57.977Z"
   },
   {
    "duration": 5,
    "start_time": "2023-09-13T13:24:11.110Z"
   },
   {
    "duration": 5,
    "start_time": "2023-09-13T13:24:11.541Z"
   },
   {
    "duration": 27,
    "start_time": "2023-09-13T13:24:12.181Z"
   },
   {
    "duration": 4,
    "start_time": "2023-09-13T13:24:20.738Z"
   },
   {
    "duration": 18,
    "start_time": "2023-09-13T13:24:21.195Z"
   },
   {
    "duration": 5,
    "start_time": "2023-09-13T13:24:33.773Z"
   },
   {
    "duration": 3,
    "start_time": "2023-09-13T13:24:34.246Z"
   },
   {
    "duration": 10,
    "start_time": "2023-09-13T13:24:34.720Z"
   },
   {
    "duration": 79,
    "start_time": "2023-09-13T13:44:17.060Z"
   },
   {
    "duration": 3678,
    "start_time": "2023-09-13T14:02:12.532Z"
   },
   {
    "duration": 2129,
    "start_time": "2023-09-13T14:02:40.924Z"
   },
   {
    "duration": 2853,
    "start_time": "2023-09-13T14:03:00.301Z"
   },
   {
    "duration": 13,
    "start_time": "2023-09-13T14:03:18.503Z"
   },
   {
    "duration": 11,
    "start_time": "2023-09-13T14:05:30.202Z"
   },
   {
    "duration": 9,
    "start_time": "2023-09-13T14:06:35.322Z"
   },
   {
    "duration": 9,
    "start_time": "2023-09-13T14:06:48.496Z"
   },
   {
    "duration": 11,
    "start_time": "2023-09-13T14:07:55.273Z"
   },
   {
    "duration": 181,
    "start_time": "2023-09-13T14:11:18.747Z"
   },
   {
    "duration": 138,
    "start_time": "2023-09-13T14:12:00.500Z"
   },
   {
    "duration": 3827,
    "start_time": "2023-09-13T14:12:13.835Z"
   },
   {
    "duration": 9,
    "start_time": "2023-09-13T14:12:35.575Z"
   },
   {
    "duration": 12,
    "start_time": "2023-09-13T14:13:08.479Z"
   },
   {
    "duration": 7,
    "start_time": "2023-09-13T14:13:26.722Z"
   },
   {
    "duration": 10,
    "start_time": "2023-09-13T14:15:32.221Z"
   },
   {
    "duration": 10,
    "start_time": "2023-09-13T14:15:54.202Z"
   },
   {
    "duration": 11,
    "start_time": "2023-09-13T14:16:10.297Z"
   },
   {
    "duration": 9,
    "start_time": "2023-09-13T14:16:22.510Z"
   },
   {
    "duration": 47,
    "start_time": "2023-09-13T14:35:40.966Z"
   },
   {
    "duration": 4,
    "start_time": "2023-09-13T15:37:04.276Z"
   },
   {
    "duration": 215,
    "start_time": "2023-09-13T15:37:04.282Z"
   },
   {
    "duration": 11,
    "start_time": "2023-09-13T15:37:04.499Z"
   },
   {
    "duration": 42,
    "start_time": "2023-09-13T15:37:04.512Z"
   },
   {
    "duration": 4,
    "start_time": "2023-09-13T15:37:04.557Z"
   },
   {
    "duration": 31,
    "start_time": "2023-09-13T15:37:04.563Z"
   },
   {
    "duration": 28,
    "start_time": "2023-09-13T15:37:04.596Z"
   },
   {
    "duration": 82,
    "start_time": "2023-09-13T15:37:04.626Z"
   },
   {
    "duration": 84,
    "start_time": "2023-09-13T15:37:04.710Z"
   },
   {
    "duration": 30,
    "start_time": "2023-09-13T15:37:04.797Z"
   },
   {
    "duration": 28,
    "start_time": "2023-09-13T15:37:04.831Z"
   },
   {
    "duration": 62,
    "start_time": "2023-09-13T15:37:04.863Z"
   },
   {
    "duration": 359,
    "start_time": "2023-09-13T15:37:04.927Z"
   },
   {
    "duration": 20,
    "start_time": "2023-09-13T15:37:05.289Z"
   },
   {
    "duration": 49,
    "start_time": "2023-09-13T15:37:05.311Z"
   },
   {
    "duration": 29,
    "start_time": "2023-09-13T15:37:05.362Z"
   },
   {
    "duration": 21,
    "start_time": "2023-09-13T15:37:05.393Z"
   },
   {
    "duration": 11,
    "start_time": "2023-09-13T15:37:05.416Z"
   },
   {
    "duration": 28,
    "start_time": "2023-09-13T15:37:05.429Z"
   },
   {
    "duration": 571,
    "start_time": "2023-09-13T15:37:05.459Z"
   },
   {
    "duration": 281,
    "start_time": "2023-09-13T15:37:06.032Z"
   },
   {
    "duration": 314,
    "start_time": "2023-09-13T15:37:06.315Z"
   },
   {
    "duration": 13,
    "start_time": "2023-09-13T15:37:06.631Z"
   },
   {
    "duration": 59,
    "start_time": "2023-09-13T15:37:06.647Z"
   },
   {
    "duration": 5,
    "start_time": "2023-09-13T15:37:06.709Z"
   },
   {
    "duration": 69,
    "start_time": "2023-09-13T15:37:06.718Z"
   },
   {
    "duration": 365,
    "start_time": "2023-09-13T15:37:06.789Z"
   },
   {
    "duration": 95,
    "start_time": "2023-09-13T15:37:07.156Z"
   },
   {
    "duration": 49,
    "start_time": "2023-09-13T15:37:07.256Z"
   },
   {
    "duration": 8,
    "start_time": "2023-09-13T15:37:07.307Z"
   },
   {
    "duration": 61,
    "start_time": "2023-09-13T15:37:07.317Z"
   },
   {
    "duration": 358,
    "start_time": "2023-09-13T15:37:07.380Z"
   },
   {
    "duration": 161,
    "start_time": "2023-09-13T15:37:07.740Z"
   },
   {
    "duration": 5,
    "start_time": "2023-09-13T15:37:07.903Z"
   },
   {
    "duration": 23,
    "start_time": "2023-09-13T15:37:07.910Z"
   },
   {
    "duration": 25,
    "start_time": "2023-09-13T15:37:07.935Z"
   },
   {
    "duration": 15,
    "start_time": "2023-09-13T15:37:07.962Z"
   },
   {
    "duration": 37,
    "start_time": "2023-09-13T15:37:07.979Z"
   },
   {
    "duration": 6,
    "start_time": "2023-09-13T15:37:08.018Z"
   },
   {
    "duration": 28,
    "start_time": "2023-09-13T15:37:08.026Z"
   },
   {
    "duration": 11,
    "start_time": "2023-09-13T15:37:08.055Z"
   },
   {
    "duration": 10,
    "start_time": "2023-09-13T15:37:08.067Z"
   },
   {
    "duration": 16,
    "start_time": "2023-09-13T15:37:08.081Z"
   },
   {
    "duration": 13,
    "start_time": "2023-09-13T15:37:08.100Z"
   },
   {
    "duration": 13,
    "start_time": "2023-09-13T15:37:08.115Z"
   },
   {
    "duration": 1047,
    "start_time": "2023-09-13T16:15:54.892Z"
   },
   {
    "duration": 190,
    "start_time": "2023-09-13T16:15:55.941Z"
   },
   {
    "duration": 17,
    "start_time": "2023-09-13T16:15:56.133Z"
   },
   {
    "duration": 20,
    "start_time": "2023-09-13T16:15:56.152Z"
   },
   {
    "duration": 16,
    "start_time": "2023-09-13T16:15:56.174Z"
   },
   {
    "duration": 12,
    "start_time": "2023-09-13T16:15:56.192Z"
   },
   {
    "duration": 30,
    "start_time": "2023-09-13T16:15:56.206Z"
   },
   {
    "duration": 69,
    "start_time": "2023-09-13T16:15:56.238Z"
   },
   {
    "duration": 67,
    "start_time": "2023-09-13T16:15:56.309Z"
   },
   {
    "duration": 15,
    "start_time": "2023-09-13T16:15:56.379Z"
   },
   {
    "duration": 8,
    "start_time": "2023-09-13T16:15:56.396Z"
   },
   {
    "duration": 12,
    "start_time": "2023-09-13T16:15:56.406Z"
   },
   {
    "duration": 238,
    "start_time": "2023-09-13T16:15:56.420Z"
   },
   {
    "duration": 14,
    "start_time": "2023-09-13T16:15:56.659Z"
   },
   {
    "duration": 28,
    "start_time": "2023-09-13T16:15:56.674Z"
   },
   {
    "duration": 12,
    "start_time": "2023-09-13T16:15:56.704Z"
   },
   {
    "duration": 22,
    "start_time": "2023-09-13T16:15:56.717Z"
   },
   {
    "duration": 11,
    "start_time": "2023-09-13T16:15:56.740Z"
   },
   {
    "duration": 9,
    "start_time": "2023-09-13T16:15:56.752Z"
   },
   {
    "duration": 429,
    "start_time": "2023-09-13T16:15:56.763Z"
   },
   {
    "duration": 269,
    "start_time": "2023-09-13T16:15:57.194Z"
   },
   {
    "duration": 209,
    "start_time": "2023-09-13T16:15:57.464Z"
   },
   {
    "duration": 6,
    "start_time": "2023-09-13T16:15:57.675Z"
   },
   {
    "duration": 10,
    "start_time": "2023-09-13T16:15:57.683Z"
   },
   {
    "duration": 4,
    "start_time": "2023-09-13T16:15:57.694Z"
   },
   {
    "duration": 39,
    "start_time": "2023-09-13T16:15:57.699Z"
   },
   {
    "duration": 89,
    "start_time": "2023-09-13T16:15:57.750Z"
   },
   {
    "duration": 0,
    "start_time": "2023-09-13T16:15:57.849Z"
   },
   {
    "duration": 0,
    "start_time": "2023-09-13T16:15:57.850Z"
   },
   {
    "duration": 0,
    "start_time": "2023-09-13T16:15:57.851Z"
   },
   {
    "duration": 0,
    "start_time": "2023-09-13T16:15:57.852Z"
   },
   {
    "duration": 0,
    "start_time": "2023-09-13T16:15:57.852Z"
   },
   {
    "duration": 0,
    "start_time": "2023-09-13T16:15:57.853Z"
   },
   {
    "duration": 0,
    "start_time": "2023-09-13T16:15:57.854Z"
   },
   {
    "duration": 0,
    "start_time": "2023-09-13T16:15:57.855Z"
   },
   {
    "duration": 0,
    "start_time": "2023-09-13T16:15:57.856Z"
   },
   {
    "duration": 0,
    "start_time": "2023-09-13T16:15:57.857Z"
   },
   {
    "duration": 0,
    "start_time": "2023-09-13T16:15:57.858Z"
   },
   {
    "duration": 0,
    "start_time": "2023-09-13T16:15:57.859Z"
   },
   {
    "duration": 0,
    "start_time": "2023-09-13T16:15:57.860Z"
   },
   {
    "duration": 0,
    "start_time": "2023-09-13T16:15:57.860Z"
   },
   {
    "duration": 0,
    "start_time": "2023-09-13T16:15:57.861Z"
   },
   {
    "duration": 0,
    "start_time": "2023-09-13T16:15:57.862Z"
   },
   {
    "duration": 0,
    "start_time": "2023-09-13T16:15:57.863Z"
   },
   {
    "duration": 0,
    "start_time": "2023-09-13T16:15:57.864Z"
   },
   {
    "duration": 1431,
    "start_time": "2023-09-13T23:00:43.760Z"
   },
   {
    "duration": 588,
    "start_time": "2023-09-13T23:00:45.193Z"
   },
   {
    "duration": 15,
    "start_time": "2023-09-13T23:00:45.783Z"
   },
   {
    "duration": 31,
    "start_time": "2023-09-13T23:00:45.800Z"
   },
   {
    "duration": 4,
    "start_time": "2023-09-13T23:00:45.834Z"
   },
   {
    "duration": 26,
    "start_time": "2023-09-13T23:00:45.839Z"
   },
   {
    "duration": 40,
    "start_time": "2023-09-13T23:00:45.867Z"
   },
   {
    "duration": 78,
    "start_time": "2023-09-13T23:00:45.912Z"
   },
   {
    "duration": 78,
    "start_time": "2023-09-13T23:00:45.991Z"
   },
   {
    "duration": 39,
    "start_time": "2023-09-13T23:00:46.070Z"
   },
   {
    "duration": 13,
    "start_time": "2023-09-13T23:00:46.111Z"
   },
   {
    "duration": 12,
    "start_time": "2023-09-13T23:00:46.125Z"
   },
   {
    "duration": 287,
    "start_time": "2023-09-13T23:00:46.138Z"
   },
   {
    "duration": 14,
    "start_time": "2023-09-13T23:00:46.428Z"
   },
   {
    "duration": 36,
    "start_time": "2023-09-13T23:00:46.443Z"
   },
   {
    "duration": 32,
    "start_time": "2023-09-13T23:00:46.481Z"
   },
   {
    "duration": 8,
    "start_time": "2023-09-13T23:00:46.515Z"
   },
   {
    "duration": 4,
    "start_time": "2023-09-13T23:00:46.525Z"
   },
   {
    "duration": 14,
    "start_time": "2023-09-13T23:00:46.530Z"
   },
   {
    "duration": 510,
    "start_time": "2023-09-13T23:00:46.546Z"
   },
   {
    "duration": 309,
    "start_time": "2023-09-13T23:00:47.057Z"
   },
   {
    "duration": 255,
    "start_time": "2023-09-13T23:00:47.368Z"
   },
   {
    "duration": 8,
    "start_time": "2023-09-13T23:00:47.625Z"
   },
   {
    "duration": 12,
    "start_time": "2023-09-13T23:00:47.635Z"
   },
   {
    "duration": 5,
    "start_time": "2023-09-13T23:00:47.649Z"
   },
   {
    "duration": 68,
    "start_time": "2023-09-13T23:00:47.655Z"
   },
   {
    "duration": 117,
    "start_time": "2023-09-13T23:00:47.725Z"
   },
   {
    "duration": 0,
    "start_time": "2023-09-13T23:00:47.844Z"
   },
   {
    "duration": 0,
    "start_time": "2023-09-13T23:00:47.845Z"
   },
   {
    "duration": 0,
    "start_time": "2023-09-13T23:00:47.846Z"
   },
   {
    "duration": 0,
    "start_time": "2023-09-13T23:00:47.848Z"
   },
   {
    "duration": 0,
    "start_time": "2023-09-13T23:00:47.849Z"
   },
   {
    "duration": 0,
    "start_time": "2023-09-13T23:00:47.850Z"
   },
   {
    "duration": 0,
    "start_time": "2023-09-13T23:00:47.851Z"
   },
   {
    "duration": 0,
    "start_time": "2023-09-13T23:00:47.852Z"
   },
   {
    "duration": 0,
    "start_time": "2023-09-13T23:00:47.854Z"
   },
   {
    "duration": 0,
    "start_time": "2023-09-13T23:00:47.855Z"
   },
   {
    "duration": 0,
    "start_time": "2023-09-13T23:00:47.856Z"
   },
   {
    "duration": 0,
    "start_time": "2023-09-13T23:00:47.857Z"
   },
   {
    "duration": 0,
    "start_time": "2023-09-13T23:00:47.858Z"
   },
   {
    "duration": 0,
    "start_time": "2023-09-13T23:00:47.859Z"
   },
   {
    "duration": 0,
    "start_time": "2023-09-13T23:00:47.860Z"
   },
   {
    "duration": 0,
    "start_time": "2023-09-13T23:00:47.861Z"
   },
   {
    "duration": 0,
    "start_time": "2023-09-13T23:00:47.862Z"
   },
   {
    "duration": 0,
    "start_time": "2023-09-13T23:00:47.864Z"
   },
   {
    "duration": 1395,
    "start_time": "2023-09-13T23:03:27.649Z"
   },
   {
    "duration": 1433,
    "start_time": "2023-09-13T23:04:17.212Z"
   },
   {
    "duration": 40,
    "start_time": "2023-09-13T23:04:48.438Z"
   },
   {
    "duration": 5,
    "start_time": "2023-09-13T23:05:28.115Z"
   },
   {
    "duration": 9,
    "start_time": "2023-09-13T23:07:00.684Z"
   },
   {
    "duration": 11,
    "start_time": "2023-09-13T23:07:17.212Z"
   },
   {
    "duration": 34,
    "start_time": "2023-09-13T23:09:50.897Z"
   },
   {
    "duration": 356,
    "start_time": "2023-09-13T23:09:51.338Z"
   },
   {
    "duration": 40,
    "start_time": "2023-09-13T23:11:47.648Z"
   },
   {
    "duration": 43,
    "start_time": "2023-09-13T23:11:56.435Z"
   },
   {
    "duration": 116,
    "start_time": "2023-09-13T23:12:39.883Z"
   },
   {
    "duration": 104,
    "start_time": "2023-09-13T23:12:47.511Z"
   },
   {
    "duration": 5,
    "start_time": "2023-09-13T23:12:48.673Z"
   },
   {
    "duration": 4,
    "start_time": "2023-09-13T23:13:45.277Z"
   },
   {
    "duration": 4,
    "start_time": "2023-09-13T23:13:57.496Z"
   },
   {
    "duration": 109,
    "start_time": "2023-09-13T23:14:53.520Z"
   },
   {
    "duration": 109,
    "start_time": "2023-09-13T23:15:39.182Z"
   },
   {
    "duration": 3,
    "start_time": "2023-09-13T23:17:11.075Z"
   },
   {
    "duration": 300,
    "start_time": "2023-09-13T23:17:11.080Z"
   },
   {
    "duration": 10,
    "start_time": "2023-09-13T23:17:11.382Z"
   },
   {
    "duration": 43,
    "start_time": "2023-09-13T23:17:11.393Z"
   },
   {
    "duration": 3,
    "start_time": "2023-09-13T23:17:11.439Z"
   },
   {
    "duration": 12,
    "start_time": "2023-09-13T23:17:11.444Z"
   },
   {
    "duration": 28,
    "start_time": "2023-09-13T23:17:11.458Z"
   },
   {
    "duration": 63,
    "start_time": "2023-09-13T23:17:11.487Z"
   },
   {
    "duration": 69,
    "start_time": "2023-09-13T23:17:11.551Z"
   },
   {
    "duration": 16,
    "start_time": "2023-09-13T23:17:11.622Z"
   },
   {
    "duration": 13,
    "start_time": "2023-09-13T23:17:11.640Z"
   },
   {
    "duration": 21,
    "start_time": "2023-09-13T23:17:11.655Z"
   },
   {
    "duration": 282,
    "start_time": "2023-09-13T23:17:11.678Z"
   },
   {
    "duration": 16,
    "start_time": "2023-09-13T23:17:11.962Z"
   },
   {
    "duration": 56,
    "start_time": "2023-09-13T23:17:11.980Z"
   },
   {
    "duration": 14,
    "start_time": "2023-09-13T23:17:12.038Z"
   },
   {
    "duration": 8,
    "start_time": "2023-09-13T23:17:12.053Z"
   },
   {
    "duration": 4,
    "start_time": "2023-09-13T23:17:12.062Z"
   },
   {
    "duration": 12,
    "start_time": "2023-09-13T23:17:12.068Z"
   },
   {
    "duration": 567,
    "start_time": "2023-09-13T23:17:12.114Z"
   },
   {
    "duration": 247,
    "start_time": "2023-09-13T23:17:12.682Z"
   },
   {
    "duration": 267,
    "start_time": "2023-09-13T23:17:12.931Z"
   },
   {
    "duration": 15,
    "start_time": "2023-09-13T23:17:13.200Z"
   },
   {
    "duration": 102,
    "start_time": "2023-09-13T23:17:13.216Z"
   },
   {
    "duration": 4,
    "start_time": "2023-09-13T23:17:13.321Z"
   },
   {
    "duration": 87,
    "start_time": "2023-09-13T23:17:13.326Z"
   },
   {
    "duration": 25,
    "start_time": "2023-09-13T23:17:13.415Z"
   },
   {
    "duration": 337,
    "start_time": "2023-09-13T23:17:13.442Z"
   },
   {
    "duration": 77,
    "start_time": "2023-09-13T23:17:13.783Z"
   },
   {
    "duration": 53,
    "start_time": "2023-09-13T23:17:13.862Z"
   },
   {
    "duration": 30,
    "start_time": "2023-09-13T23:17:13.917Z"
   },
   {
    "duration": 69,
    "start_time": "2023-09-13T23:17:13.949Z"
   },
   {
    "duration": 242,
    "start_time": "2023-09-13T23:17:14.020Z"
   },
   {
    "duration": 164,
    "start_time": "2023-09-13T23:17:14.264Z"
   },
   {
    "duration": 5,
    "start_time": "2023-09-13T23:17:14.430Z"
   },
   {
    "duration": 7,
    "start_time": "2023-09-13T23:17:14.437Z"
   },
   {
    "duration": 35,
    "start_time": "2023-09-13T23:17:14.445Z"
   },
   {
    "duration": 37,
    "start_time": "2023-09-13T23:17:14.482Z"
   },
   {
    "duration": 24,
    "start_time": "2023-09-13T23:17:14.521Z"
   },
   {
    "duration": 16,
    "start_time": "2023-09-13T23:17:14.548Z"
   },
   {
    "duration": 44,
    "start_time": "2023-09-13T23:17:14.566Z"
   },
   {
    "duration": 13,
    "start_time": "2023-09-13T23:17:14.612Z"
   },
   {
    "duration": 25,
    "start_time": "2023-09-13T23:17:14.628Z"
   },
   {
    "duration": 37,
    "start_time": "2023-09-13T23:17:14.654Z"
   },
   {
    "duration": 31,
    "start_time": "2023-09-13T23:17:14.693Z"
   },
   {
    "duration": 14,
    "start_time": "2023-09-13T23:17:14.726Z"
   },
   {
    "duration": 90,
    "start_time": "2023-09-13T23:19:12.642Z"
   },
   {
    "duration": 3,
    "start_time": "2023-09-13T23:23:26.515Z"
   },
   {
    "duration": 202,
    "start_time": "2023-09-13T23:23:26.520Z"
   },
   {
    "duration": 11,
    "start_time": "2023-09-13T23:23:26.724Z"
   },
   {
    "duration": 26,
    "start_time": "2023-09-13T23:23:26.737Z"
   },
   {
    "duration": 4,
    "start_time": "2023-09-13T23:23:26.765Z"
   },
   {
    "duration": 46,
    "start_time": "2023-09-13T23:23:26.770Z"
   },
   {
    "duration": 27,
    "start_time": "2023-09-13T23:23:26.817Z"
   },
   {
    "duration": 69,
    "start_time": "2023-09-13T23:23:26.846Z"
   },
   {
    "duration": 62,
    "start_time": "2023-09-13T23:23:26.917Z"
   },
   {
    "duration": 34,
    "start_time": "2023-09-13T23:23:26.981Z"
   },
   {
    "duration": 14,
    "start_time": "2023-09-13T23:23:27.017Z"
   },
   {
    "duration": 18,
    "start_time": "2023-09-13T23:23:27.033Z"
   },
   {
    "duration": 292,
    "start_time": "2023-09-13T23:23:27.053Z"
   },
   {
    "duration": 14,
    "start_time": "2023-09-13T23:23:27.348Z"
   },
   {
    "duration": 56,
    "start_time": "2023-09-13T23:23:27.363Z"
   },
   {
    "duration": 14,
    "start_time": "2023-09-13T23:23:27.421Z"
   },
   {
    "duration": 18,
    "start_time": "2023-09-13T23:23:27.437Z"
   },
   {
    "duration": 9,
    "start_time": "2023-09-13T23:23:27.457Z"
   },
   {
    "duration": 7,
    "start_time": "2023-09-13T23:23:27.467Z"
   },
   {
    "duration": 479,
    "start_time": "2023-09-13T23:23:27.476Z"
   },
   {
    "duration": 259,
    "start_time": "2023-09-13T23:23:27.957Z"
   },
   {
    "duration": 252,
    "start_time": "2023-09-13T23:23:28.218Z"
   },
   {
    "duration": 7,
    "start_time": "2023-09-13T23:23:28.472Z"
   },
   {
    "duration": 134,
    "start_time": "2023-09-13T23:23:28.481Z"
   },
   {
    "duration": 4,
    "start_time": "2023-09-13T23:23:28.617Z"
   },
   {
    "duration": 74,
    "start_time": "2023-09-13T23:23:28.623Z"
   },
   {
    "duration": 51,
    "start_time": "2023-09-13T23:23:28.699Z"
   },
   {
    "duration": 324,
    "start_time": "2023-09-13T23:23:28.752Z"
   },
   {
    "duration": 77,
    "start_time": "2023-09-13T23:23:29.078Z"
   },
   {
    "duration": 23,
    "start_time": "2023-09-13T23:23:29.156Z"
   },
   {
    "duration": 27,
    "start_time": "2023-09-13T23:23:29.181Z"
   },
   {
    "duration": 59,
    "start_time": "2023-09-13T23:23:29.211Z"
   },
   {
    "duration": 111,
    "start_time": "2023-09-13T23:23:29.272Z"
   },
   {
    "duration": 262,
    "start_time": "2023-09-13T23:23:29.385Z"
   },
   {
    "duration": 165,
    "start_time": "2023-09-13T23:23:29.649Z"
   },
   {
    "duration": 5,
    "start_time": "2023-09-13T23:23:29.816Z"
   },
   {
    "duration": 51,
    "start_time": "2023-09-13T23:23:29.823Z"
   },
   {
    "duration": 30,
    "start_time": "2023-09-13T23:23:29.876Z"
   },
   {
    "duration": 115,
    "start_time": "2023-09-13T23:23:29.907Z"
   },
   {
    "duration": 47,
    "start_time": "2023-09-13T23:23:30.024Z"
   },
   {
    "duration": 212,
    "start_time": "2023-09-13T23:23:30.074Z"
   },
   {
    "duration": 94,
    "start_time": "2023-09-13T23:23:30.288Z"
   },
   {
    "duration": 44,
    "start_time": "2023-09-13T23:23:30.384Z"
   },
   {
    "duration": 36,
    "start_time": "2023-09-13T23:23:30.429Z"
   },
   {
    "duration": 38,
    "start_time": "2023-09-13T23:23:30.467Z"
   },
   {
    "duration": 164,
    "start_time": "2023-09-13T23:23:30.507Z"
   },
   {
    "duration": 53,
    "start_time": "2023-09-13T23:23:30.673Z"
   },
   {
    "duration": 88,
    "start_time": "2023-09-13T23:26:30.775Z"
   },
   {
    "duration": 93,
    "start_time": "2023-09-13T23:26:41.831Z"
   },
   {
    "duration": 105,
    "start_time": "2023-09-13T23:27:29.885Z"
   },
   {
    "duration": 28,
    "start_time": "2023-09-13T23:27:40.154Z"
   },
   {
    "duration": 28,
    "start_time": "2023-09-13T23:27:40.959Z"
   },
   {
    "duration": 3,
    "start_time": "2023-09-13T23:27:45.816Z"
   },
   {
    "duration": 196,
    "start_time": "2023-09-13T23:27:45.821Z"
   },
   {
    "duration": 10,
    "start_time": "2023-09-13T23:27:46.019Z"
   },
   {
    "duration": 22,
    "start_time": "2023-09-13T23:27:46.031Z"
   },
   {
    "duration": 12,
    "start_time": "2023-09-13T23:27:46.055Z"
   },
   {
    "duration": 14,
    "start_time": "2023-09-13T23:27:46.069Z"
   },
   {
    "duration": 43,
    "start_time": "2023-09-13T23:27:46.084Z"
   },
   {
    "duration": 56,
    "start_time": "2023-09-13T23:27:46.129Z"
   },
   {
    "duration": 72,
    "start_time": "2023-09-13T23:27:46.186Z"
   },
   {
    "duration": 17,
    "start_time": "2023-09-13T23:27:46.260Z"
   },
   {
    "duration": 34,
    "start_time": "2023-09-13T23:27:46.279Z"
   },
   {
    "duration": 12,
    "start_time": "2023-09-13T23:27:46.315Z"
   },
   {
    "duration": 285,
    "start_time": "2023-09-13T23:27:46.328Z"
   },
   {
    "duration": 15,
    "start_time": "2023-09-13T23:27:46.616Z"
   },
   {
    "duration": 32,
    "start_time": "2023-09-13T23:27:46.633Z"
   },
   {
    "duration": 15,
    "start_time": "2023-09-13T23:27:46.667Z"
   },
   {
    "duration": 36,
    "start_time": "2023-09-13T23:27:46.683Z"
   },
   {
    "duration": 4,
    "start_time": "2023-09-13T23:27:46.721Z"
   },
   {
    "duration": 26,
    "start_time": "2023-09-13T23:27:46.727Z"
   },
   {
    "duration": 485,
    "start_time": "2023-09-13T23:27:46.755Z"
   },
   {
    "duration": 239,
    "start_time": "2023-09-13T23:27:47.242Z"
   },
   {
    "duration": 257,
    "start_time": "2023-09-13T23:27:47.482Z"
   },
   {
    "duration": 9,
    "start_time": "2023-09-13T23:27:47.741Z"
   },
   {
    "duration": 104,
    "start_time": "2023-09-13T23:27:47.752Z"
   },
   {
    "duration": 5,
    "start_time": "2023-09-13T23:27:47.858Z"
   },
   {
    "duration": 62,
    "start_time": "2023-09-13T23:27:47.865Z"
   },
   {
    "duration": 30,
    "start_time": "2023-09-13T23:27:47.929Z"
   },
   {
    "duration": 315,
    "start_time": "2023-09-13T23:27:47.961Z"
   },
   {
    "duration": 72,
    "start_time": "2023-09-13T23:27:48.277Z"
   },
   {
    "duration": 23,
    "start_time": "2023-09-13T23:27:48.351Z"
   },
   {
    "duration": 39,
    "start_time": "2023-09-13T23:27:48.376Z"
   },
   {
    "duration": 56,
    "start_time": "2023-09-13T23:27:48.417Z"
   },
   {
    "duration": 109,
    "start_time": "2023-09-13T23:27:48.474Z"
   },
   {
    "duration": 261,
    "start_time": "2023-09-13T23:27:48.585Z"
   },
   {
    "duration": 144,
    "start_time": "2023-09-13T23:27:48.847Z"
   },
   {
    "duration": 16,
    "start_time": "2023-09-13T23:27:48.993Z"
   },
   {
    "duration": 21,
    "start_time": "2023-09-13T23:27:49.014Z"
   },
   {
    "duration": 36,
    "start_time": "2023-09-13T23:27:49.037Z"
   },
   {
    "duration": 47,
    "start_time": "2023-09-13T23:27:49.075Z"
   },
   {
    "duration": 25,
    "start_time": "2023-09-13T23:27:49.124Z"
   },
   {
    "duration": 23,
    "start_time": "2023-09-13T23:27:49.153Z"
   },
   {
    "duration": 24,
    "start_time": "2023-09-13T23:27:49.178Z"
   },
   {
    "duration": 13,
    "start_time": "2023-09-13T23:27:49.214Z"
   },
   {
    "duration": 39,
    "start_time": "2023-09-13T23:27:49.229Z"
   },
   {
    "duration": 51,
    "start_time": "2023-09-13T23:27:49.270Z"
   },
   {
    "duration": 30,
    "start_time": "2023-09-13T23:27:49.322Z"
   },
   {
    "duration": 32,
    "start_time": "2023-09-13T23:27:49.354Z"
   },
   {
    "duration": 1512,
    "start_time": "2023-09-14T06:39:28.537Z"
   },
   {
    "duration": 525,
    "start_time": "2023-09-14T06:39:30.051Z"
   },
   {
    "duration": 18,
    "start_time": "2023-09-14T06:39:30.579Z"
   },
   {
    "duration": 32,
    "start_time": "2023-09-14T06:39:30.599Z"
   },
   {
    "duration": 4,
    "start_time": "2023-09-14T06:39:30.633Z"
   },
   {
    "duration": 35,
    "start_time": "2023-09-14T06:39:30.638Z"
   },
   {
    "duration": 43,
    "start_time": "2023-09-14T06:39:30.675Z"
   },
   {
    "duration": 86,
    "start_time": "2023-09-14T06:39:30.720Z"
   },
   {
    "duration": 75,
    "start_time": "2023-09-14T06:39:30.808Z"
   },
   {
    "duration": 25,
    "start_time": "2023-09-14T06:39:30.886Z"
   },
   {
    "duration": 49,
    "start_time": "2023-09-14T06:39:30.913Z"
   },
   {
    "duration": 36,
    "start_time": "2023-09-14T06:39:30.964Z"
   },
   {
    "duration": 297,
    "start_time": "2023-09-14T06:39:31.002Z"
   },
   {
    "duration": 22,
    "start_time": "2023-09-14T06:39:31.301Z"
   },
   {
    "duration": 41,
    "start_time": "2023-09-14T06:39:31.325Z"
   },
   {
    "duration": 35,
    "start_time": "2023-09-14T06:39:31.368Z"
   },
   {
    "duration": 94,
    "start_time": "2023-09-14T06:39:31.405Z"
   },
   {
    "duration": 23,
    "start_time": "2023-09-14T06:39:31.502Z"
   },
   {
    "duration": 34,
    "start_time": "2023-09-14T06:39:31.526Z"
   },
   {
    "duration": 557,
    "start_time": "2023-09-14T06:39:31.562Z"
   },
   {
    "duration": 372,
    "start_time": "2023-09-14T06:39:32.121Z"
   },
   {
    "duration": 328,
    "start_time": "2023-09-14T06:39:32.495Z"
   },
   {
    "duration": 9,
    "start_time": "2023-09-14T06:39:32.825Z"
   },
   {
    "duration": 48,
    "start_time": "2023-09-14T06:39:32.835Z"
   },
   {
    "duration": 195,
    "start_time": "2023-09-14T06:39:32.885Z"
   },
   {
    "duration": 0,
    "start_time": "2023-09-14T06:39:33.083Z"
   },
   {
    "duration": 0,
    "start_time": "2023-09-14T06:39:33.084Z"
   },
   {
    "duration": 0,
    "start_time": "2023-09-14T06:39:33.085Z"
   },
   {
    "duration": 0,
    "start_time": "2023-09-14T06:39:33.086Z"
   },
   {
    "duration": 0,
    "start_time": "2023-09-14T06:39:33.087Z"
   },
   {
    "duration": 0,
    "start_time": "2023-09-14T06:39:33.088Z"
   },
   {
    "duration": 0,
    "start_time": "2023-09-14T06:39:33.088Z"
   },
   {
    "duration": 0,
    "start_time": "2023-09-14T06:39:33.090Z"
   },
   {
    "duration": 0,
    "start_time": "2023-09-14T06:39:33.091Z"
   },
   {
    "duration": 0,
    "start_time": "2023-09-14T06:39:33.092Z"
   },
   {
    "duration": 0,
    "start_time": "2023-09-14T06:39:33.093Z"
   },
   {
    "duration": 0,
    "start_time": "2023-09-14T06:39:33.110Z"
   },
   {
    "duration": 0,
    "start_time": "2023-09-14T06:39:33.111Z"
   },
   {
    "duration": 0,
    "start_time": "2023-09-14T06:39:33.113Z"
   },
   {
    "duration": 0,
    "start_time": "2023-09-14T06:39:33.114Z"
   },
   {
    "duration": 0,
    "start_time": "2023-09-14T06:39:33.115Z"
   },
   {
    "duration": 0,
    "start_time": "2023-09-14T06:39:33.116Z"
   },
   {
    "duration": 0,
    "start_time": "2023-09-14T06:39:33.117Z"
   },
   {
    "duration": 0,
    "start_time": "2023-09-14T06:39:33.118Z"
   },
   {
    "duration": 0,
    "start_time": "2023-09-14T06:39:33.119Z"
   },
   {
    "duration": 0,
    "start_time": "2023-09-14T06:39:33.120Z"
   },
   {
    "duration": 0,
    "start_time": "2023-09-14T06:39:33.121Z"
   },
   {
    "duration": 67,
    "start_time": "2023-09-14T06:40:24.189Z"
   },
   {
    "duration": 7,
    "start_time": "2023-09-14T06:40:24.542Z"
   },
   {
    "duration": 1197,
    "start_time": "2023-09-14T06:41:23.958Z"
   },
   {
    "duration": 211,
    "start_time": "2023-09-14T06:41:25.158Z"
   },
   {
    "duration": 14,
    "start_time": "2023-09-14T06:41:25.371Z"
   },
   {
    "duration": 34,
    "start_time": "2023-09-14T06:41:25.388Z"
   },
   {
    "duration": 7,
    "start_time": "2023-09-14T06:41:25.424Z"
   },
   {
    "duration": 18,
    "start_time": "2023-09-14T06:41:25.433Z"
   },
   {
    "duration": 28,
    "start_time": "2023-09-14T06:41:25.453Z"
   },
   {
    "duration": 78,
    "start_time": "2023-09-14T06:41:25.483Z"
   },
   {
    "duration": 80,
    "start_time": "2023-09-14T06:41:25.563Z"
   },
   {
    "duration": 17,
    "start_time": "2023-09-14T06:41:25.645Z"
   },
   {
    "duration": 11,
    "start_time": "2023-09-14T06:41:25.664Z"
   },
   {
    "duration": 35,
    "start_time": "2023-09-14T06:41:25.677Z"
   },
   {
    "duration": 283,
    "start_time": "2023-09-14T06:41:25.714Z"
   },
   {
    "duration": 20,
    "start_time": "2023-09-14T06:41:25.999Z"
   },
   {
    "duration": 36,
    "start_time": "2023-09-14T06:41:26.021Z"
   },
   {
    "duration": 15,
    "start_time": "2023-09-14T06:41:26.059Z"
   },
   {
    "duration": 26,
    "start_time": "2023-09-14T06:41:26.076Z"
   },
   {
    "duration": 4,
    "start_time": "2023-09-14T06:41:26.110Z"
   },
   {
    "duration": 13,
    "start_time": "2023-09-14T06:41:26.116Z"
   },
   {
    "duration": 496,
    "start_time": "2023-09-14T06:41:26.131Z"
   },
   {
    "duration": 311,
    "start_time": "2023-09-14T06:41:26.629Z"
   },
   {
    "duration": 258,
    "start_time": "2023-09-14T06:41:26.942Z"
   },
   {
    "duration": 9,
    "start_time": "2023-09-14T06:41:27.209Z"
   },
   {
    "duration": 61,
    "start_time": "2023-09-14T06:41:27.220Z"
   },
   {
    "duration": 5,
    "start_time": "2023-09-14T06:41:27.283Z"
   },
   {
    "duration": 41,
    "start_time": "2023-09-14T06:41:27.309Z"
   },
   {
    "duration": 25,
    "start_time": "2023-09-14T06:41:27.351Z"
   },
   {
    "duration": 301,
    "start_time": "2023-09-14T06:41:27.380Z"
   },
   {
    "duration": 74,
    "start_time": "2023-09-14T06:41:27.683Z"
   },
   {
    "duration": 24,
    "start_time": "2023-09-14T06:41:27.759Z"
   },
   {
    "duration": 25,
    "start_time": "2023-09-14T06:41:27.785Z"
   },
   {
    "duration": 53,
    "start_time": "2023-09-14T06:41:27.812Z"
   },
   {
    "duration": 98,
    "start_time": "2023-09-14T06:41:27.867Z"
   },
   {
    "duration": 288,
    "start_time": "2023-09-14T06:41:27.966Z"
   },
   {
    "duration": 164,
    "start_time": "2023-09-14T06:41:28.255Z"
   },
   {
    "duration": 5,
    "start_time": "2023-09-14T06:41:28.421Z"
   },
   {
    "duration": 7,
    "start_time": "2023-09-14T06:41:28.428Z"
   },
   {
    "duration": 13,
    "start_time": "2023-09-14T06:41:28.437Z"
   },
   {
    "duration": 12,
    "start_time": "2023-09-14T06:41:28.451Z"
   },
   {
    "duration": 14,
    "start_time": "2023-09-14T06:41:28.464Z"
   },
   {
    "duration": 4,
    "start_time": "2023-09-14T06:41:28.480Z"
   },
   {
    "duration": 10,
    "start_time": "2023-09-14T06:41:28.510Z"
   },
   {
    "duration": 12,
    "start_time": "2023-09-14T06:41:28.522Z"
   },
   {
    "duration": 10,
    "start_time": "2023-09-14T06:41:28.537Z"
   },
   {
    "duration": 10,
    "start_time": "2023-09-14T06:41:28.548Z"
   },
   {
    "duration": 51,
    "start_time": "2023-09-14T06:41:28.560Z"
   },
   {
    "duration": 10,
    "start_time": "2023-09-14T06:41:28.612Z"
   },
   {
    "duration": 102,
    "start_time": "2023-09-14T06:51:57.936Z"
   },
   {
    "duration": 6,
    "start_time": "2023-09-14T06:51:58.801Z"
   },
   {
    "duration": 52,
    "start_time": "2023-09-14T09:00:14.034Z"
   },
   {
    "duration": 1387,
    "start_time": "2023-09-14T09:00:20.051Z"
   },
   {
    "duration": 524,
    "start_time": "2023-09-14T09:00:21.440Z"
   },
   {
    "duration": 15,
    "start_time": "2023-09-14T09:00:21.966Z"
   },
   {
    "duration": 25,
    "start_time": "2023-09-14T09:00:21.983Z"
   },
   {
    "duration": 3,
    "start_time": "2023-09-14T09:00:22.010Z"
   },
   {
    "duration": 21,
    "start_time": "2023-09-14T09:00:22.015Z"
   },
   {
    "duration": 25,
    "start_time": "2023-09-14T09:00:22.038Z"
   },
   {
    "duration": 80,
    "start_time": "2023-09-14T09:00:22.064Z"
   },
   {
    "duration": 78,
    "start_time": "2023-09-14T09:00:22.146Z"
   },
   {
    "duration": 16,
    "start_time": "2023-09-14T09:00:22.227Z"
   },
   {
    "duration": 13,
    "start_time": "2023-09-14T09:00:22.245Z"
   },
   {
    "duration": 13,
    "start_time": "2023-09-14T09:00:22.259Z"
   },
   {
    "duration": 312,
    "start_time": "2023-09-14T09:00:22.274Z"
   },
   {
    "duration": 28,
    "start_time": "2023-09-14T09:00:22.588Z"
   },
   {
    "duration": 59,
    "start_time": "2023-09-14T09:00:22.618Z"
   },
   {
    "duration": 20,
    "start_time": "2023-09-14T09:00:22.679Z"
   },
   {
    "duration": 12,
    "start_time": "2023-09-14T09:00:22.701Z"
   },
   {
    "duration": 4,
    "start_time": "2023-09-14T09:00:22.715Z"
   },
   {
    "duration": 15,
    "start_time": "2023-09-14T09:00:22.721Z"
   },
   {
    "duration": 512,
    "start_time": "2023-09-14T09:00:22.738Z"
   },
   {
    "duration": 307,
    "start_time": "2023-09-14T09:00:23.251Z"
   },
   {
    "duration": 262,
    "start_time": "2023-09-14T09:00:23.560Z"
   },
   {
    "duration": 8,
    "start_time": "2023-09-14T09:00:23.824Z"
   },
   {
    "duration": 76,
    "start_time": "2023-09-14T09:00:23.833Z"
   },
   {
    "duration": 5,
    "start_time": "2023-09-14T09:00:23.911Z"
   },
   {
    "duration": 39,
    "start_time": "2023-09-14T09:00:23.917Z"
   },
   {
    "duration": 35,
    "start_time": "2023-09-14T09:00:23.957Z"
   },
   {
    "duration": 320,
    "start_time": "2023-09-14T09:00:23.996Z"
   },
   {
    "duration": 64,
    "start_time": "2023-09-14T09:00:24.318Z"
   },
   {
    "duration": 36,
    "start_time": "2023-09-14T09:00:24.383Z"
   },
   {
    "duration": 18,
    "start_time": "2023-09-14T09:00:24.421Z"
   },
   {
    "duration": 54,
    "start_time": "2023-09-14T09:00:24.441Z"
   },
   {
    "duration": 93,
    "start_time": "2023-09-14T09:00:24.497Z"
   },
   {
    "duration": 265,
    "start_time": "2023-09-14T09:00:24.592Z"
   },
   {
    "duration": 158,
    "start_time": "2023-09-14T09:00:24.859Z"
   },
   {
    "duration": 6,
    "start_time": "2023-09-14T09:00:25.018Z"
   },
   {
    "duration": 15,
    "start_time": "2023-09-14T09:00:25.025Z"
   },
   {
    "duration": 20,
    "start_time": "2023-09-14T09:00:25.042Z"
   },
   {
    "duration": 15,
    "start_time": "2023-09-14T09:00:25.064Z"
   },
   {
    "duration": 15,
    "start_time": "2023-09-14T09:00:25.081Z"
   },
   {
    "duration": 20,
    "start_time": "2023-09-14T09:00:25.097Z"
   },
   {
    "duration": 20,
    "start_time": "2023-09-14T09:00:25.119Z"
   },
   {
    "duration": 11,
    "start_time": "2023-09-14T09:00:25.141Z"
   },
   {
    "duration": 11,
    "start_time": "2023-09-14T09:00:25.154Z"
   },
   {
    "duration": 11,
    "start_time": "2023-09-14T09:00:25.167Z"
   },
   {
    "duration": 38,
    "start_time": "2023-09-14T09:00:25.179Z"
   },
   {
    "duration": 12,
    "start_time": "2023-09-14T09:00:25.219Z"
   },
   {
    "duration": 5,
    "start_time": "2023-09-14T09:01:25.761Z"
   },
   {
    "duration": 4,
    "start_time": "2023-09-14T09:02:12.279Z"
   },
   {
    "duration": 254,
    "start_time": "2023-09-14T09:02:12.285Z"
   },
   {
    "duration": 16,
    "start_time": "2023-09-14T09:02:12.542Z"
   },
   {
    "duration": 50,
    "start_time": "2023-09-14T09:02:12.561Z"
   },
   {
    "duration": 26,
    "start_time": "2023-09-14T09:02:12.615Z"
   },
   {
    "duration": 34,
    "start_time": "2023-09-14T09:02:12.643Z"
   },
   {
    "duration": 35,
    "start_time": "2023-09-14T09:02:12.679Z"
   },
   {
    "duration": 96,
    "start_time": "2023-09-14T09:02:12.716Z"
   },
   {
    "duration": 77,
    "start_time": "2023-09-14T09:02:12.815Z"
   },
   {
    "duration": 43,
    "start_time": "2023-09-14T09:02:12.894Z"
   },
   {
    "duration": 12,
    "start_time": "2023-09-14T09:02:12.939Z"
   },
   {
    "duration": 15,
    "start_time": "2023-09-14T09:02:12.952Z"
   },
   {
    "duration": 308,
    "start_time": "2023-09-14T09:02:12.970Z"
   },
   {
    "duration": 16,
    "start_time": "2023-09-14T09:02:13.280Z"
   },
   {
    "duration": 45,
    "start_time": "2023-09-14T09:02:13.298Z"
   },
   {
    "duration": 14,
    "start_time": "2023-09-14T09:02:13.344Z"
   },
   {
    "duration": 10,
    "start_time": "2023-09-14T09:02:13.359Z"
   },
   {
    "duration": 4,
    "start_time": "2023-09-14T09:02:13.371Z"
   },
   {
    "duration": 47,
    "start_time": "2023-09-14T09:02:13.376Z"
   },
   {
    "duration": 627,
    "start_time": "2023-09-14T09:02:13.426Z"
   },
   {
    "duration": 270,
    "start_time": "2023-09-14T09:02:14.054Z"
   },
   {
    "duration": 285,
    "start_time": "2023-09-14T09:02:14.327Z"
   },
   {
    "duration": 10,
    "start_time": "2023-09-14T09:02:14.614Z"
   },
   {
    "duration": 54,
    "start_time": "2023-09-14T09:02:14.630Z"
   },
   {
    "duration": 4,
    "start_time": "2023-09-14T09:02:14.686Z"
   },
   {
    "duration": 39,
    "start_time": "2023-09-14T09:02:14.711Z"
   },
   {
    "duration": 41,
    "start_time": "2023-09-14T09:02:14.752Z"
   },
   {
    "duration": 307,
    "start_time": "2023-09-14T09:02:14.795Z"
   },
   {
    "duration": 66,
    "start_time": "2023-09-14T09:02:15.109Z"
   },
   {
    "duration": 40,
    "start_time": "2023-09-14T09:02:15.177Z"
   },
   {
    "duration": 51,
    "start_time": "2023-09-14T09:02:15.219Z"
   },
   {
    "duration": 64,
    "start_time": "2023-09-14T09:02:15.271Z"
   },
   {
    "duration": 99,
    "start_time": "2023-09-14T09:02:15.337Z"
   },
   {
    "duration": 297,
    "start_time": "2023-09-14T09:02:15.438Z"
   },
   {
    "duration": 147,
    "start_time": "2023-09-14T09:02:15.736Z"
   },
   {
    "duration": 7,
    "start_time": "2023-09-14T09:02:15.885Z"
   },
   {
    "duration": 5,
    "start_time": "2023-09-14T09:02:15.909Z"
   },
   {
    "duration": 15,
    "start_time": "2023-09-14T09:02:15.915Z"
   },
   {
    "duration": 20,
    "start_time": "2023-09-14T09:02:15.932Z"
   },
   {
    "duration": 28,
    "start_time": "2023-09-14T09:02:15.953Z"
   },
   {
    "duration": 15,
    "start_time": "2023-09-14T09:02:15.983Z"
   },
   {
    "duration": 16,
    "start_time": "2023-09-14T09:02:16.000Z"
   },
   {
    "duration": 18,
    "start_time": "2023-09-14T09:02:16.018Z"
   },
   {
    "duration": 11,
    "start_time": "2023-09-14T09:02:16.038Z"
   },
   {
    "duration": 13,
    "start_time": "2023-09-14T09:02:16.051Z"
   },
   {
    "duration": 43,
    "start_time": "2023-09-14T09:02:16.066Z"
   },
   {
    "duration": 11,
    "start_time": "2023-09-14T09:02:16.111Z"
   }
  ],
  "kernelspec": {
   "display_name": "Python 3 (ipykernel)",
   "language": "python",
   "name": "python3"
  },
  "language_info": {
   "codemirror_mode": {
    "name": "ipython",
    "version": 3
   },
   "file_extension": ".py",
   "mimetype": "text/x-python",
   "name": "python",
   "nbconvert_exporter": "python",
   "pygments_lexer": "ipython3",
   "version": "3.9.5"
  },
  "toc": {
   "base_numbering": 1,
   "nav_menu": {},
   "number_sections": true,
   "sideBar": true,
   "skip_h1_title": true,
   "title_cell": "Table of Contents",
   "title_sidebar": "Contents",
   "toc_cell": false,
   "toc_position": {},
   "toc_section_display": true,
   "toc_window_display": false
  }
 },
 "nbformat": 4,
 "nbformat_minor": 2
}
